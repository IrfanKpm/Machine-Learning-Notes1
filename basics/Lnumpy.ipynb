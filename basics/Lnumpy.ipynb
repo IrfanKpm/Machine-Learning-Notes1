{
  "nbformat": 4,
  "nbformat_minor": 0,
  "metadata": {
    "colab": {
      "provenance": [],
      "authorship_tag": "ABX9TyON/EbOyQlZjlxJgESEfpOi",
      "include_colab_link": true
    },
    "kernelspec": {
      "name": "python3",
      "display_name": "Python 3"
    },
    "language_info": {
      "name": "python"
    }
  },
  "cells": [
    {
      "cell_type": "markdown",
      "metadata": {
        "id": "view-in-github",
        "colab_type": "text"
      },
      "source": [
        "<a href=\"https://colab.research.google.com/github/IrfanKpm/Machine-Learning-Notes1/blob/main/basics/Lnumpy.ipynb\" target=\"_parent\"><img src=\"https://colab.research.google.com/assets/colab-badge.svg\" alt=\"Open In Colab\"/></a>"
      ]
    },
    {
      "cell_type": "markdown",
      "source": [
        "# Lnumpy.ipynb\n",
        "\n",
        "This notebook is designed to help you learn and understand the basics of NumPy, a fundamental package for scientific computing in Python.\n",
        "\n",
        "## What is NumPy?\n",
        "NumPy, short for Numerical Python, is a powerful library for numerical computing in Python. It provides support for arrays, matrices, and many mathematical functions to operate on these data structures efficiently.\n",
        "\n",
        "## Uses of NumPy\n",
        "1. **Array Creation**: NumPy provides an efficient way to create and manipulate arrays. It supports both single-dimensional (1D) and multi-dimensional (2D, 3D, etc.) arrays.\n",
        "\n",
        "2. **Mathematical Operations**: You can perform element-wise operations, matrix operations, and linear algebra operations with NumPy. This includes addition, subtraction, multiplication, division, dot product, cross product, etc.\n",
        "\n",
        "3. **Statistical Operations**: NumPy offers a variety of functions to compute statistical measures such as mean, median, standard deviation, variance, etc.\n",
        "\n",
        "4. **Data Handling**: NumPy arrays are used for storing and manipulating large datasets. They provide a more efficient and convenient way to handle data compared to Python's built-in lists.\n",
        "\n",
        "5. **Integration with Other Libraries**: NumPy serves as the foundation for many other scientific libraries in Python, such as SciPy (for scientific computing), Pandas (for data analysis), Matplotlib (for plotting), and Scikit-learn (for machine learning).\n",
        "\n",
        "6. **Random Number Generation**: NumPy includes functions for generating random numbers, which are useful in simulations, statistical modeling, and more.\n",
        "\n",
        "## Installation\n",
        "You can install NumPy using pip: pip install numpy\n"
      ],
      "metadata": {
        "id": "3qAL17BmXlnM"
      }
    },
    {
      "cell_type": "code",
      "source": [
        "# pip install numpy"
      ],
      "metadata": {
        "id": "uNkNIZ8CX3uV"
      },
      "execution_count": 1,
      "outputs": []
    },
    {
      "cell_type": "code",
      "source": [
        "import numpy as np"
      ],
      "metadata": {
        "id": "iIqrSbOfX_aE"
      },
      "execution_count": 2,
      "outputs": []
    },
    {
      "cell_type": "markdown",
      "source": [
        "## 1D array\n",
        "\n",
        "A 1D array, or one-dimensional array, is a linear data structure consisting of a single row or single column of elements. It can be created using NumPy's `np.array()` function with a list or tuple of values."
      ],
      "metadata": {
        "id": "E1AzRu9jY9Vt"
      }
    },
    {
      "cell_type": "code",
      "source": [
        "a = np.array([2, 5, 10])  # Create a NumPy array 'a' with elements [2, 5, 10]\n",
        "print(a.dtype)  # Print the data type of the array 'a'\n",
        "print(a.ndim)   # Print the number of dimensions of the array 'a'\n"
      ],
      "metadata": {
        "colab": {
          "base_uri": "https://localhost:8080/"
        },
        "id": "4RE1HarUYCUB",
        "outputId": "fe9cfc76-33fc-4ec8-f783-c5e2f995389f"
      },
      "execution_count": 10,
      "outputs": [
        {
          "output_type": "stream",
          "name": "stdout",
          "text": [
            "int64\n",
            "1\n"
          ]
        }
      ]
    },
    {
      "cell_type": "code",
      "source": [
        "b = np.array([4.2 , 6.0])\n",
        "print(f\"array b : {b}\")\n",
        "print(f\"dtype of b : {b.dtype}\")\n",
        "print(\"Changing dtype to complex...\")\n",
        "b.dtype = \"complex\"  # Change the data type of array 'b' to complex\n",
        "print(f\"dtype of b : {b}\")"
      ],
      "metadata": {
        "colab": {
          "base_uri": "https://localhost:8080/"
        },
        "id": "dQRQ6H39YCWm",
        "outputId": "a1e06069-2440-43ae-858a-cf0db0fc113d"
      },
      "execution_count": 30,
      "outputs": [
        {
          "output_type": "stream",
          "name": "stdout",
          "text": [
            "array b : [4.2 6. ]\n",
            "dtype of b : float64\n",
            "Changing dtype to complex...\n",
            "dtype of b : [4.2+6.j]\n"
          ]
        }
      ]
    },
    {
      "cell_type": "markdown",
      "source": [
        "##2D Array\n",
        "A 2D array, or two-dimensional array, represents a matrix with rows and columns. It can be created using NumPy's np.array() function with a nested list or a 2D array initializer."
      ],
      "metadata": {
        "id": "8H8Ifr2GZXuq"
      }
    },
    {
      "cell_type": "code",
      "source": [
        "c = np.array([\n",
        "    [3,5,7],\n",
        "    [0,4,2]\n",
        "])\n",
        "print(c)\n",
        "print(c.dtype)\n",
        "print(c.ndim)\n",
        "print(c.flatten()) # flatten"
      ],
      "metadata": {
        "colab": {
          "base_uri": "https://localhost:8080/"
        },
        "id": "6V0Ixds1YCZm",
        "outputId": "0dd8e21d-52db-4ee0-c7b1-d9715d154509"
      },
      "execution_count": 106,
      "outputs": [
        {
          "output_type": "stream",
          "name": "stdout",
          "text": [
            "[[3 5 7]\n",
            " [0 4 2]]\n",
            "int64\n",
            "2\n",
            "[3 5 7 0 4 2]\n"
          ]
        }
      ]
    },
    {
      "cell_type": "markdown",
      "source": [
        "## 3D Array\n",
        "A 3D array, or three-dimensional array, extends the concept of a matrix into three dimensions. It is often used to represent data with three axes, such as RGB color images or volumetric data."
      ],
      "metadata": {
        "id": "PkvGAkctah9w"
      }
    },
    {
      "cell_type": "code",
      "source": [
        "d = np.array([\n",
        "    [\n",
        "     [3,2,0],\n",
        "     [1,1,5]\n",
        "    ],\n",
        "    [\n",
        "     [9,6,6],\n",
        "     [4,7,9]\n",
        "    ]\n",
        "])\n",
        "print(d)\n",
        "print(d.dtype)\n",
        "print(d.ndim)"
      ],
      "metadata": {
        "colab": {
          "base_uri": "https://localhost:8080/"
        },
        "id": "5w555zqsYCci",
        "outputId": "1167a193-d8e2-4e6f-b45b-bd0f0b304373"
      },
      "execution_count": 12,
      "outputs": [
        {
          "output_type": "stream",
          "name": "stdout",
          "text": [
            "[[[3 2 0]\n",
            "  [1 1 5]]\n",
            "\n",
            " [[9 6 6]\n",
            "  [4 7 9]]]\n",
            "int64\n",
            "3\n"
          ]
        }
      ]
    },
    {
      "cell_type": "markdown",
      "source": [
        "##Zero Matrix\n",
        "A zero matrix is a matrix where all elements are zeros."
      ],
      "metadata": {
        "id": "SWzdWPPJc2qr"
      }
    },
    {
      "cell_type": "code",
      "source": [
        "z = np.zeros((2,3))\n",
        "z"
      ],
      "metadata": {
        "colab": {
          "base_uri": "https://localhost:8080/"
        },
        "id": "if_8fCFMcobi",
        "outputId": "e5b93432-fd01-41c8-f78b-edc892433be8"
      },
      "execution_count": 31,
      "outputs": [
        {
          "output_type": "execute_result",
          "data": {
            "text/plain": [
              "array([[0., 0., 0.],\n",
              "       [0., 0., 0.]])"
            ]
          },
          "metadata": {},
          "execution_count": 31
        }
      ]
    },
    {
      "cell_type": "markdown",
      "source": [
        "## Ones Matrix\n",
        "An ones matrix is a matrix where all elements are ones.\n",
        "\n",
        "In the context of NumPy, the function np.ones((a, b, c)) creates a multi-dimensional array (tensor) filled with ones. Here's what a, b, and c represent:\n",
        "\n",
        "**a:** Specifies the number of elements in the first dimension (axis 0). This corresponds to the number of rows in a 2D array or the depth in higher-dimensional arrays.\n",
        "\n",
        "**b:** Specifies the number of elements in the second dimension (axis 1). This represents the number of columns in a 2D array or the width in higher-dimensional arrays.\n",
        "\n",
        "**c:** Specifies the number of elements in the third dimension (axis 2). This dimension is optional and represents the depth in a 3D array or the width in higher-dimensional arrays."
      ],
      "metadata": {
        "id": "xXTW6EvldNJa"
      }
    },
    {
      "cell_type": "code",
      "source": [
        "o = np.ones((4,3,3),dtype=\"int32\")\n",
        "o"
      ],
      "metadata": {
        "colab": {
          "base_uri": "https://localhost:8080/"
        },
        "id": "_xnCLlUPdMdP",
        "outputId": "5c8947c6-c6d2-49c7-e0cb-52ec5aa54f2a"
      },
      "execution_count": 34,
      "outputs": [
        {
          "output_type": "execute_result",
          "data": {
            "text/plain": [
              "array([[[1, 1, 1],\n",
              "        [1, 1, 1],\n",
              "        [1, 1, 1]],\n",
              "\n",
              "       [[1, 1, 1],\n",
              "        [1, 1, 1],\n",
              "        [1, 1, 1]],\n",
              "\n",
              "       [[1, 1, 1],\n",
              "        [1, 1, 1],\n",
              "        [1, 1, 1]],\n",
              "\n",
              "       [[1, 1, 1],\n",
              "        [1, 1, 1],\n",
              "        [1, 1, 1]]], dtype=int32)"
            ]
          },
          "metadata": {},
          "execution_count": 34
        }
      ]
    },
    {
      "cell_type": "code",
      "source": [
        "filled_arr = np.full((3,2),12)  # to create an array filled with a specified value.\n",
        "filled_arr"
      ],
      "metadata": {
        "colab": {
          "base_uri": "https://localhost:8080/"
        },
        "id": "PLNrgpWreddA",
        "outputId": "70c44cc5-4b42-4a4b-c890-b3ac0face24d"
      },
      "execution_count": 35,
      "outputs": [
        {
          "output_type": "execute_result",
          "data": {
            "text/plain": [
              "array([[12, 12],\n",
              "       [12, 12],\n",
              "       [12, 12]])"
            ]
          },
          "metadata": {},
          "execution_count": 35
        }
      ]
    },
    {
      "cell_type": "code",
      "source": [
        "range_arr =  np.arange(0,11,2) # (start, stop, step)\n",
        "range_arr"
      ],
      "metadata": {
        "colab": {
          "base_uri": "https://localhost:8080/"
        },
        "id": "m4wUMvTpemz6",
        "outputId": "9486f77f-fd96-41c5-875a-061bb998056f"
      },
      "execution_count": 37,
      "outputs": [
        {
          "output_type": "execute_result",
          "data": {
            "text/plain": [
              "array([ 0,  2,  4,  6,  8, 10])"
            ]
          },
          "metadata": {},
          "execution_count": 37
        }
      ]
    },
    {
      "cell_type": "code",
      "source": [
        "arr_linspace = np.linspace(1, 10, 10) ## Create an array of 10 values from 0 to 1 (inclusive)\n",
        "print(arr_linspace)\n",
        "arr_linspace2 = np.linspace(2,11,7)\n",
        "print(arr_linspace2)\n",
        "\n",
        "print(arr_linspace.shape)"
      ],
      "metadata": {
        "colab": {
          "base_uri": "https://localhost:8080/"
        },
        "id": "Q9EuzYv0e-0I",
        "outputId": "5aed44d5-e5e9-4aaa-e7af-349f5161c0e0"
      },
      "execution_count": 49,
      "outputs": [
        {
          "output_type": "stream",
          "name": "stdout",
          "text": [
            "[ 1.  2.  3.  4.  5.  6.  7.  8.  9. 10.]\n",
            "[ 2.   3.5  5.   6.5  8.   9.5 11. ]\n",
            "(10,)\n"
          ]
        }
      ]
    },
    {
      "cell_type": "markdown",
      "source": [
        "**arr_linspace** is a 1-dimensional array with 10 elements, as indicated by (10,) when printing arr_linspace.shape.\n",
        "The shape (10,) means it has 10 elements along the first axis (rows in a 2D context)."
      ],
      "metadata": {
        "id": "_Ov8DZLXgFAw"
      }
    },
    {
      "cell_type": "code",
      "source": [
        "# reshape\n",
        "re_arr = np.arange(0,100,5)\n",
        "print(re_arr)\n",
        "print(\"\\n(5,4) --->\")\n",
        "print(re_arr.reshape((5,4)))\n",
        "print(\"\\n(2,2,5) --->\")\n",
        "print(re_arr.reshape((2,2,5)))"
      ],
      "metadata": {
        "colab": {
          "base_uri": "https://localhost:8080/"
        },
        "id": "W6rZa38agF2z",
        "outputId": "973715a4-b751-4b6d-94ee-db3790e6db4a"
      },
      "execution_count": 59,
      "outputs": [
        {
          "output_type": "stream",
          "name": "stdout",
          "text": [
            "[ 0  5 10 15 20 25 30 35 40 45 50 55 60 65 70 75 80 85 90 95]\n",
            "\n",
            "(5,4) --->\n",
            "[[ 0  5 10 15]\n",
            " [20 25 30 35]\n",
            " [40 45 50 55]\n",
            " [60 65 70 75]\n",
            " [80 85 90 95]]\n",
            "\n",
            "(2,2,5) --->\n",
            "[[[ 0  5 10 15 20]\n",
            "  [25 30 35 40 45]]\n",
            "\n",
            " [[50 55 60 65 70]\n",
            "  [75 80 85 90 95]]]\n"
          ]
        }
      ]
    },
    {
      "cell_type": "markdown",
      "source": [
        "## Matrix Arithmatics\n",
        "arr_a = [4, 6, 9]\n",
        "\n",
        "arr_b = [0, 4, 2]"
      ],
      "metadata": {
        "id": "RkqN_ViThvWo"
      }
    },
    {
      "cell_type": "code",
      "source": [
        "arr_a = np.array([4, 6, 9])\n",
        "arr_b = np.array([1, 3, 9])"
      ],
      "metadata": {
        "id": "2qh0wEn0iImS"
      },
      "execution_count": 66,
      "outputs": []
    },
    {
      "cell_type": "code",
      "source": [
        "result_addition = arr_a + arr_b\n",
        "print(\"Element-wise Addition:\")\n",
        "print(result_addition)\n",
        "\n",
        "result_subtraction = arr_a - arr_b\n",
        "print(\"\\nElement-wise Subtraction:\")\n",
        "print(result_subtraction)\n",
        "\n",
        "result_multiplication = arr_a * arr_b\n",
        "print(\"\\nElement-wise Multiplication:\")\n",
        "print(result_multiplication)\n",
        "\n",
        "result_division = arr_a / arr_b\n",
        "print(\"\\nElement-wise Division:\")\n",
        "print(result_division)\n",
        "\n",
        "dot_product = np.dot(arr_a, arr_b)\n",
        "print(\"\\nDot Product of arr_a and arr_b:\")\n",
        "print(dot_product)"
      ],
      "metadata": {
        "colab": {
          "base_uri": "https://localhost:8080/"
        },
        "id": "kbLPYQMoiNJs",
        "outputId": "67492544-b44a-437b-a53d-d1a0a04b39c5"
      },
      "execution_count": 69,
      "outputs": [
        {
          "output_type": "stream",
          "name": "stdout",
          "text": [
            "Element-wise Addition:\n",
            "[ 5  9 18]\n",
            "\n",
            "Element-wise Subtraction:\n",
            "[3 3 0]\n",
            "\n",
            "Element-wise Multiplication:\n",
            "[ 4 18 81]\n",
            "\n",
            "Element-wise Division:\n",
            "[4. 2. 1.]\n",
            "\n",
            "Dot Product of arr_a and arr_b:\n",
            "103\n"
          ]
        }
      ]
    },
    {
      "cell_type": "code",
      "source": [
        "print(f\"arr_a : {arr_a}\")\n",
        "\n",
        "# Scalar Addition\n",
        "scalar_addition = arr_a + 10\n",
        "print(f\"\\nScalar Addition (+10) : {scalar_addition}\")\n",
        "\n",
        "# Scalar Multiplication\n",
        "scalar_multiplication = arr_a * 5\n",
        "print(f\"\\nScalar Multiplication (*5) : {scalar_multiplication}\")\n",
        "\n",
        "# Exponentiation\n",
        "exponentiation = arr_a ** 2\n",
        "print(f\"\\nExponentiation (**2) : {exponentiation}\")\n",
        "\n"
      ],
      "metadata": {
        "colab": {
          "base_uri": "https://localhost:8080/"
        },
        "id": "j-OzmA_KiNTB",
        "outputId": "13e0d49e-c2a9-40e5-b535-c825591eb966"
      },
      "execution_count": 77,
      "outputs": [
        {
          "output_type": "stream",
          "name": "stdout",
          "text": [
            "arr_a : [4 6 9]\n",
            "\n",
            "Scalar Addition (+10) : [14 16 19]\n",
            "\n",
            "Scalar Multiplication (*5) : [20 30 45]\n",
            "\n",
            "Exponentiation (**2) : [16 36 81]\n"
          ]
        }
      ]
    },
    {
      "cell_type": "code",
      "source": [
        "   # Trigonometric Functions\n",
        "trig_arr = [0,90,180,360]\n",
        "\n",
        "print(f\"trig_arr : {trig_arr}\")\n",
        "sin_values = np.sin(trig_arr)\n",
        "cos_values = np.cos(trig_arr)\n",
        "tan_values = np.tan(trig_arr)\n",
        "\n",
        "print(\"Trigonometric Functions:\")\n",
        "print(f\"sin(trig_arr) : {sin_values}\")\n",
        "print(f\"cos(trig_arr) : {cos_values}\")\n",
        "print(f\"tan(trig_arr) : {tan_values}\")"
      ],
      "metadata": {
        "colab": {
          "base_uri": "https://localhost:8080/"
        },
        "id": "KQ3hFPYekHP7",
        "outputId": "cba7e1b4-14e1-4fca-9869-1d8461281319"
      },
      "execution_count": 79,
      "outputs": [
        {
          "output_type": "stream",
          "name": "stdout",
          "text": [
            "trig_arr : [0, 90, 180, 360]\n",
            "Trigonometric Functions:\n",
            "sin(trig_arr) : [ 0.          0.89399666 -0.80115264  0.95891572]\n",
            "cos(trig_arr) : [ 1.         -0.44807362 -0.59846007 -0.28369109]\n",
            "tan(trig_arr) : [ 0.         -1.99520041  1.33869021 -3.38014041]\n"
          ]
        }
      ]
    },
    {
      "cell_type": "code",
      "source": [
        "arrr = np.array([5,2,6,1,0,4])\n",
        "print(arrr > 3)"
      ],
      "metadata": {
        "colab": {
          "base_uri": "https://localhost:8080/"
        },
        "id": "d74HV4qjk2Ys",
        "outputId": "2e358e8e-c3ba-450b-dab0-e3b9b8673840"
      },
      "execution_count": 82,
      "outputs": [
        {
          "output_type": "stream",
          "name": "stdout",
          "text": [
            "[ True False  True False False  True]\n"
          ]
        }
      ]
    },
    {
      "cell_type": "code",
      "source": [
        "# to create random elements in a matrix\n",
        "np.random.random((3,4))"
      ],
      "metadata": {
        "colab": {
          "base_uri": "https://localhost:8080/"
        },
        "id": "7Zb4l2nylONV",
        "outputId": "cb3bfe3f-87d6-4e1b-b532-ffbf36907c46"
      },
      "execution_count": 83,
      "outputs": [
        {
          "output_type": "execute_result",
          "data": {
            "text/plain": [
              "array([[0.34394403, 0.62228353, 0.68425046, 0.60956964],\n",
              "       [0.60136825, 0.18059471, 0.09986609, 0.8877118 ],\n",
              "       [0.41980524, 0.36175353, 0.90683814, 0.78897571]])"
            ]
          },
          "metadata": {},
          "execution_count": 83
        }
      ]
    },
    {
      "cell_type": "markdown",
      "source": [
        "ar_a**.min()** finds the smallest value in the array ar_a\n",
        "\n",
        "ar_a**.max()** finds the largest value in the array ar_a\n",
        "\n",
        "ar_a**.sum()** calculates the sum of all elements in the array ar_an"
      ],
      "metadata": {
        "id": "qZBwdOf3mGye"
      }
    },
    {
      "cell_type": "code",
      "source": [
        "ar_a = np.array([2,6,9,3,4,1])\n",
        "print(f\"array : {ar_a}\")\n",
        "print(f\"min value : {ar_a.min()}\")\n",
        "print(f\"max value : {ar_a.max()}\")\n",
        "print(f\"sum pf array : {ar_a.sum()}\")\n",
        "print(\"Index of minimum value:\", np.argmin(ar_a))\n",
        "print(\"Index of maximum value:\", np.argmax(ar_a))"
      ],
      "metadata": {
        "colab": {
          "base_uri": "https://localhost:8080/"
        },
        "id": "hb3gQAAllrpF",
        "outputId": "28608b38-32f6-42b5-ab29-700e654a052e"
      },
      "execution_count": 103,
      "outputs": [
        {
          "output_type": "stream",
          "name": "stdout",
          "text": [
            "array : [2 6 9 3 4 1]\n",
            "min value : 1\n",
            "max value : 9\n",
            "sum pf array : 25\n",
            "Index of minimum value: 5\n",
            "Index of maximum value: 2\n"
          ]
        }
      ]
    },
    {
      "cell_type": "code",
      "source": [
        "arr = np.array([[1, 2], [3, 4]])\n",
        "print(\"Array:\", arr)\n",
        "print(\"Standard deviation:\", np.std(arr))  # Output: 1.118033988749895 (standard deviation of all elements)\n"
      ],
      "metadata": {
        "colab": {
          "base_uri": "https://localhost:8080/"
        },
        "id": "CPPJFBBNrpg8",
        "outputId": "a741c0ae-b600-4826-c83c-13cfe0ffe5c3"
      },
      "execution_count": 104,
      "outputs": [
        {
          "output_type": "stream",
          "name": "stdout",
          "text": [
            "Array: [[1 2]\n",
            " [3 4]]\n",
            "Standard deviation: 1.118033988749895\n"
          ]
        }
      ]
    },
    {
      "cell_type": "code",
      "source": [
        "arr = np.array([[1, 2], [3, 4]])\n",
        "print(\"Array:\", arr)\n",
        "print(\"Median:\", np.median(arr))  # Output: 2.5 (median of all elements)\n"
      ],
      "metadata": {
        "colab": {
          "base_uri": "https://localhost:8080/"
        },
        "id": "Z4pS45-YrvOT",
        "outputId": "e68b52d9-9d61-4af9-c607-86876f5d69d3"
      },
      "execution_count": 105,
      "outputs": [
        {
          "output_type": "stream",
          "name": "stdout",
          "text": [
            "Array: [[1 2]\n",
            " [3 4]]\n",
            "Median: 2.5\n"
          ]
        }
      ]
    },
    {
      "cell_type": "markdown",
      "source": [
        "**Understanding Axis in NumPy Arrays**\n",
        "\n",
        "In NumPy, \"axis\" refers to the specific dimension of an array. Arrays can have one or more dimensions, and each dimension is represented by its corresponding axis. When performing operations like finding the minimum, maximum, sum, mean, etc., you can specify along which axis these operations should be applied.\n",
        "\n",
        "Key Points:\n",
        "\n",
        "**0-axis (rows):** When working with a 2-dimensional array (matrix), axis 0 refers to the rows. Operations along axis 0 will be applied row-wise.\n",
        "\n",
        "**1-axis (columns):** In a 2-dimensional array, axis 1 refers to the columns. Operations along axis 1 will be applied column-wise.\n",
        "\n",
        "**Higher dimensions:** For arrays with more than two dimensions, each axis is sequentially numbered starting from 0. Operations can be specified along any of these axes.\n",
        "\n",
        "**Examples:**\n",
        "\n",
        "Finding minimum along axis 0: np.min(array, axis=0) will return the minimum value for each column in a 2-dimensional array.\n",
        "\n",
        "Finding sum along axis 1: np.sum(array, axis=1) will calculate the sum of values for each row in a 2-dimensional array."
      ],
      "metadata": {
        "id": "RB8pnZqPm8jB"
      }
    },
    {
      "cell_type": "code",
      "source": [
        "ar_b = np.arange(12).reshape(3,4)\n",
        "print(ar_b)\n",
        "print(np.max(ar_b,axis=0))\n",
        "print(np.sum(ar_b,axis=1))"
      ],
      "metadata": {
        "colab": {
          "base_uri": "https://localhost:8080/"
        },
        "id": "lxPYFoRSmAjO",
        "outputId": "86b5f213-d46e-4b13-f139-7a1bc0f0a349"
      },
      "execution_count": 91,
      "outputs": [
        {
          "output_type": "stream",
          "name": "stdout",
          "text": [
            "[[ 0  1  2  3]\n",
            " [ 4  5  6  7]\n",
            " [ 8  9 10 11]]\n",
            "[ 8  9 10 11]\n",
            "[ 6 22 38]\n"
          ]
        }
      ]
    },
    {
      "cell_type": "code",
      "source": [
        "bb = np.array([9,16,4]) ## sqrt\n",
        "np.sqrt(bb)"
      ],
      "metadata": {
        "colab": {
          "base_uri": "https://localhost:8080/"
        },
        "id": "tF3Ftwy-pHsB",
        "outputId": "7ebcef13-aaf8-4a55-c4d4-db7c5e63ea9f"
      },
      "execution_count": 100,
      "outputs": [
        {
          "output_type": "execute_result",
          "data": {
            "text/plain": [
              "array([3., 4., 2.])"
            ]
          },
          "metadata": {},
          "execution_count": 100
        }
      ]
    },
    {
      "cell_type": "code",
      "source": [
        "# Example matrices\n",
        "matrix_A = np.array([[1, 2, 3],\n",
        "                     [4, 5, 6],\n",
        "                     [7, 8, 9]])\n",
        "\n",
        "matrix_B = np.array([[9, 8, 7],\n",
        "                     [6, 5, 4],\n",
        "                     [3, 2, 1]])\n",
        "\n",
        "# Addition of matrices\n",
        "matrix_addition = matrix_A + matrix_B\n",
        "print(\"Matrix Addition:\")\n",
        "print(matrix_addition)\n",
        "\n",
        "# Subtraction of matrices\n",
        "matrix_subtraction = matrix_A - matrix_B\n",
        "print(\"\\nMatrix Subtraction:\")\n",
        "print(matrix_subtraction)\n",
        "\n",
        "# Element-wise product (Hadamard product) of matrices\n",
        "elementwise_product = matrix_A * matrix_B\n",
        "print(\"\\nElement-wise Product:\")\n",
        "print(elementwise_product)\n",
        "\n",
        "# Matrix product (dot product)\n",
        "matrix_product = np.dot(matrix_A, matrix_B)\n",
        "print(\"\\nMatrix Product:\")\n",
        "print(matrix_product)\n",
        "\n",
        "# Transpose of a matrix\n",
        "matrix_A_transpose = np.transpose(matrix_A)\n",
        "print(\"\\nTranspose of Matrix A:\")\n",
        "print(matrix_A_transpose)\n",
        "\n",
        "# Trace of a matrix\n",
        "matrix_trace = np.trace(matrix_A)\n",
        "print(\"\\nTrace of Matrix A:\")\n",
        "print(matrix_trace)\n"
      ],
      "metadata": {
        "colab": {
          "base_uri": "https://localhost:8080/"
        },
        "id": "owrMqnYUqAR4",
        "outputId": "c074e169-ccf7-4ccd-f174-24d67a0c078d"
      },
      "execution_count": 101,
      "outputs": [
        {
          "output_type": "stream",
          "name": "stdout",
          "text": [
            "Matrix Addition:\n",
            "[[10 10 10]\n",
            " [10 10 10]\n",
            " [10 10 10]]\n",
            "\n",
            "Matrix Subtraction:\n",
            "[[-8 -6 -4]\n",
            " [-2  0  2]\n",
            " [ 4  6  8]]\n",
            "\n",
            "Element-wise Product:\n",
            "[[ 9 16 21]\n",
            " [24 25 24]\n",
            " [21 16  9]]\n",
            "\n",
            "Matrix Product:\n",
            "[[ 30  24  18]\n",
            " [ 84  69  54]\n",
            " [138 114  90]]\n",
            "\n",
            "Transpose of Matrix A:\n",
            "[[1 4 7]\n",
            " [2 5 8]\n",
            " [3 6 9]]\n",
            "\n",
            "Trace of Matrix A:\n",
            "15\n"
          ]
        }
      ]
    },
    {
      "cell_type": "code",
      "source": [
        "arr1 = np.array([[1, 2],\n",
        "                 [3, 4]])\n",
        "arr2 = np.array([[5, 6],\n",
        "                 [7, 8]])\n",
        "\n",
        "\n",
        "vertical_stack = np.vstack((arr1, arr2))\n",
        "horizontal_stack = np.hstack((arr1, arr2))\n",
        "\n",
        "print(\"\\nVertical Stack:\")\n",
        "print(vertical_stack)\n",
        "print(\"\\nHorizontal Stack:\")\n",
        "print(horizontal_stack)"
      ],
      "metadata": {
        "colab": {
          "base_uri": "https://localhost:8080/"
        },
        "id": "twyhSbpjsXnY",
        "outputId": "2ed0e77b-33f0-42eb-bec5-7d02684dc234"
      },
      "execution_count": 108,
      "outputs": [
        {
          "output_type": "stream",
          "name": "stdout",
          "text": [
            "\n",
            "Vertical Stack:\n",
            "[[1 2]\n",
            " [3 4]\n",
            " [5 6]\n",
            " [7 8]]\n",
            "\n",
            "Horizontal Stack:\n",
            "[[1 2 5 6]\n",
            " [3 4 7 8]]\n"
          ]
        }
      ]
    }
  ]
}