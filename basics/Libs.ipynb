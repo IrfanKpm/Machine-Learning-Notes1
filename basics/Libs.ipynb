{
  "nbformat": 4,
  "nbformat_minor": 0,
  "metadata": {
    "colab": {
      "provenance": [],
      "authorship_tag": "ABX9TyMsVCYh83zKiVNOqBLezatj",
      "include_colab_link": true
    },
    "kernelspec": {
      "name": "python3",
      "display_name": "Python 3"
    },
    "language_info": {
      "name": "python"
    }
  },
  "cells": [
    {
      "cell_type": "markdown",
      "metadata": {
        "id": "view-in-github",
        "colab_type": "text"
      },
      "source": [
        "<a href=\"https://colab.research.google.com/github/IrfanKpm/machine-learning-diaries/blob/main/basics/Libs.ipynb\" target=\"_parent\"><img src=\"https://colab.research.google.com/assets/colab-badge.svg\" alt=\"Open In Colab\"/></a>"
      ]
    },
    {
      "cell_type": "code",
      "execution_count": 1,
      "metadata": {
        "id": "jxl9tFwZizWE"
      },
      "outputs": [],
      "source": [
        "# most common libraries"
      ]
    },
    {
      "cell_type": "markdown",
      "source": [
        "## **os module**"
      ],
      "metadata": {
        "id": "0eVcgTxUjHn6"
      }
    },
    {
      "cell_type": "code",
      "source": [
        "import os"
      ],
      "metadata": {
        "id": "SbqUB7IwjGdn"
      },
      "execution_count": 18,
      "outputs": []
    },
    {
      "cell_type": "code",
      "source": [
        "print(f\"Current Directory : {os.getcwd()}\")"
      ],
      "metadata": {
        "colab": {
          "base_uri": "https://localhost:8080/"
        },
        "id": "rZEkZptBjT81",
        "outputId": "94e01fc0-f3a7-45ba-de6b-753d5f029534"
      },
      "execution_count": 19,
      "outputs": [
        {
          "output_type": "stream",
          "name": "stdout",
          "text": [
            "Current Directory : /content\n"
          ]
        }
      ]
    },
    {
      "cell_type": "code",
      "source": [
        "print(f\"Directory Contents : {os.listdir('.')}\")"
      ],
      "metadata": {
        "colab": {
          "base_uri": "https://localhost:8080/"
        },
        "id": "5pEBE0FTjpZy",
        "outputId": "6897f346-dc96-4e0e-d456-7142e8ebec21"
      },
      "execution_count": 20,
      "outputs": [
        {
          "output_type": "stream",
          "name": "stdout",
          "text": [
            "Directory Contents : ['.config', '.ipynb_checkpoints', 'sample_data']\n"
          ]
        }
      ]
    },
    {
      "cell_type": "code",
      "source": [
        "# Create a new directory\n",
        "os.mkdir('folder2')\n",
        "print(f\"Directory Contents : {os.listdir('.')}\")"
      ],
      "metadata": {
        "colab": {
          "base_uri": "https://localhost:8080/"
        },
        "id": "LGIyXmDOjx1Y",
        "outputId": "b38f2861-b3cb-45a1-ab90-777f5fdf19cb"
      },
      "execution_count": 21,
      "outputs": [
        {
          "output_type": "stream",
          "name": "stdout",
          "text": [
            "Directory Contents : ['.config', '.ipynb_checkpoints', 'folder2', 'sample_data']\n"
          ]
        }
      ]
    },
    {
      "cell_type": "code",
      "source": [
        "os.rename(\"folder2\",\"folder3\") # Rename the directory\n",
        "print(f\"Directory Contents : {os.listdir('.')}\")"
      ],
      "metadata": {
        "colab": {
          "base_uri": "https://localhost:8080/"
        },
        "id": "wRZkzB4-kDnK",
        "outputId": "f7d1fa13-8eac-4dcd-89f2-392e59570487"
      },
      "execution_count": 22,
      "outputs": [
        {
          "output_type": "stream",
          "name": "stdout",
          "text": [
            "Directory Contents : ['.config', 'folder3', '.ipynb_checkpoints', 'sample_data']\n"
          ]
        }
      ]
    },
    {
      "cell_type": "code",
      "source": [
        "# change dir\n",
        "os.chdir(\"folder3\")\n",
        "print(f\"Directory Contents : {os.listdir('.')}\")"
      ],
      "metadata": {
        "colab": {
          "base_uri": "https://localhost:8080/"
        },
        "id": "vc8HX2pmkku3",
        "outputId": "98ed2262-27b4-4152-8809-b436851cdeac"
      },
      "execution_count": 23,
      "outputs": [
        {
          "output_type": "stream",
          "name": "stdout",
          "text": [
            "Directory Contents : []\n"
          ]
        }
      ]
    },
    {
      "cell_type": "code",
      "source": [
        "# Define parts of the path\n",
        "folder1 = 'folders'\n",
        "folder2 = 'folder2'\n",
        "file_name = 'file.txt'\n",
        "\n",
        "# Join paths\n",
        "full_path = os.path.join(folder1, folder2, file_name)\n",
        "\n",
        "print(\"Full Path:\", full_path)"
      ],
      "metadata": {
        "colab": {
          "base_uri": "https://localhost:8080/"
        },
        "id": "pbGarEC1l6iM",
        "outputId": "506924c0-131e-44d0-aeb9-aa19fa36f5b2"
      },
      "execution_count": 24,
      "outputs": [
        {
          "output_type": "stream",
          "name": "stdout",
          "text": [
            "Full Path: folders/folder2/file.txt\n"
          ]
        }
      ]
    },
    {
      "cell_type": "code",
      "source": [
        "os.chdir('..')\n",
        "print(f\"Directory Contents : {os.listdir('.')}\")"
      ],
      "metadata": {
        "colab": {
          "base_uri": "https://localhost:8080/"
        },
        "id": "EohakSRNknAk",
        "outputId": "2cc5ee2b-f186-4d56-de28-cbd4915c8a48"
      },
      "execution_count": 25,
      "outputs": [
        {
          "output_type": "stream",
          "name": "stdout",
          "text": [
            "Directory Contents : ['.config', 'folder3', '.ipynb_checkpoints', 'sample_data']\n"
          ]
        }
      ]
    },
    {
      "cell_type": "markdown",
      "source": [
        "## **pathlib module**"
      ],
      "metadata": {
        "id": "itl0H1uQmeiZ"
      }
    },
    {
      "cell_type": "code",
      "source": [
        "from pathlib import Path"
      ],
      "metadata": {
        "id": "K4H19ie6md5b"
      },
      "execution_count": 26,
      "outputs": []
    },
    {
      "cell_type": "code",
      "source": [
        "# Create a Path object for the current directory\n",
        "current_dir = Path('.')\n",
        "current_dir"
      ],
      "metadata": {
        "colab": {
          "base_uri": "https://localhost:8080/"
        },
        "id": "wakAlO_2mz9O",
        "outputId": "ae81147c-39fe-4d40-d8f2-0d65f429702f"
      },
      "execution_count": 28,
      "outputs": [
        {
          "output_type": "execute_result",
          "data": {
            "text/plain": [
              "PosixPath('.')"
            ]
          },
          "metadata": {},
          "execution_count": 28
        }
      ]
    },
    {
      "cell_type": "code",
      "source": [
        "# Create a Path object for a specific directory\n",
        "folder_path = Path('folders')\n",
        "\n",
        "# Create a Path object for a file\n",
        "file_path = Path('folders/folder2/file.txt')\n",
        "\n",
        "print(current_dir)\n",
        "print(folder_path)\n",
        "print(file_path)"
      ],
      "metadata": {
        "colab": {
          "base_uri": "https://localhost:8080/"
        },
        "id": "J3VSaov9nApl",
        "outputId": "75180154-3aa7-493f-be32-196b0af62618"
      },
      "execution_count": 29,
      "outputs": [
        {
          "output_type": "stream",
          "name": "stdout",
          "text": [
            ".\n",
            "folders\n",
            "folders/folder2/file.txt\n"
          ]
        }
      ]
    },
    {
      "cell_type": "code",
      "source": [
        "# List all .jpg files in the current directory\n",
        "jpg_files = list(current_dir.glob('*.jpg'))\n",
        "\n",
        "print(\"JPG Files:\")\n",
        "for jpg_file in jpg_files:\n",
        "    print(jpg_file)"
      ],
      "metadata": {
        "colab": {
          "base_uri": "https://localhost:8080/"
        },
        "id": "gfssAsQlnafG",
        "outputId": "a24fad62-d648-45c5-b761-21c9aef201d6"
      },
      "execution_count": 30,
      "outputs": [
        {
          "output_type": "stream",
          "name": "stdout",
          "text": [
            "JPG Files:\n"
          ]
        }
      ]
    },
    {
      "cell_type": "code",
      "source": [
        "# !!!!!!!! ......."
      ],
      "metadata": {
        "id": "yq3AQjBDnkLC"
      },
      "execution_count": null,
      "outputs": []
    }
  ]
}