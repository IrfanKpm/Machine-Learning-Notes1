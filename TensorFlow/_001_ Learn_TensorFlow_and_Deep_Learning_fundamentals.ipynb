{
  "nbformat": 4,
  "nbformat_minor": 0,
  "metadata": {
    "colab": {
      "provenance": [],
      "authorship_tag": "ABX9TyNN17L/gb7sKWlFA2cAqi9z",
      "include_colab_link": true
    },
    "kernelspec": {
      "name": "python3",
      "display_name": "Python 3"
    },
    "language_info": {
      "name": "python"
    }
  },
  "cells": [
    {
      "cell_type": "markdown",
      "metadata": {
        "id": "view-in-github",
        "colab_type": "text"
      },
      "source": [
        "<a href=\"https://colab.research.google.com/github/IrfanKpm/Machine-Learning-Notes1/blob/main/TensorFlow/_001_%20Learn_TensorFlow_and_Deep_Learning_fundamentals.ipynb\" target=\"_parent\"><img src=\"https://colab.research.google.com/assets/colab-badge.svg\" alt=\"Open In Colab\"/></a>"
      ]
    },
    {
      "cell_type": "code",
      "execution_count": null,
      "metadata": {
        "id": "W02hQAkPL4zk"
      },
      "outputs": [],
      "source": [
        "# machine learning > data into numbers and find patterns in those numbers"
      ]
    },
    {
      "cell_type": "code",
      "source": [
        "import tensorflow as tf\n",
        "\n",
        "tf.__version__"
      ],
      "metadata": {
        "id": "qaE__MuFywyK",
        "colab": {
          "base_uri": "https://localhost:8080/",
          "height": 35
        },
        "outputId": "7843e3f8-77f3-49de-d989-3abbc6797720"
      },
      "execution_count": 2,
      "outputs": [
        {
          "output_type": "execute_result",
          "data": {
            "text/plain": [
              "'2.17.0'"
            ],
            "application/vnd.google.colaboratory.intrinsic+json": {
              "type": "string"
            }
          },
          "metadata": {},
          "execution_count": 2
        }
      ]
    },
    {
      "cell_type": "markdown",
      "source": [
        "##**tf.constant()**"
      ],
      "metadata": {
        "id": "Tp1mn6uX3Wc_"
      }
    },
    {
      "cell_type": "code",
      "source": [
        "# 'scalar' is a TensorFlow constant with a single value (a scalar).\n",
        "# The value of this constant is set to 4.\n",
        "# A scalar in TensorFlow is a 0-dimensional tensor, meaning it has no axes.\n",
        "scalar = tf.constant(4)\n",
        "\n",
        "scalar  # This will output the scalar tensor with the value 4.\n"
      ],
      "metadata": {
        "colab": {
          "base_uri": "https://localhost:8080/"
        },
        "id": "8G0aD1kdwDzV",
        "outputId": "3c084d27-3618-44e7-fd1b-b4842946672d"
      },
      "execution_count": 3,
      "outputs": [
        {
          "output_type": "execute_result",
          "data": {
            "text/plain": [
              "<tf.Tensor: shape=(), dtype=int32, numpy=4>"
            ]
          },
          "metadata": {},
          "execution_count": 3
        }
      ]
    },
    {
      "cell_type": "code",
      "source": [
        "vector = tf.constant([4,8])\n",
        "\n",
        "vector"
      ],
      "metadata": {
        "colab": {
          "base_uri": "https://localhost:8080/"
        },
        "id": "mqSFYLA9xEAQ",
        "outputId": "8d727785-15b2-4a69-d247-29e8d0241c71"
      },
      "execution_count": null,
      "outputs": [
        {
          "output_type": "execute_result",
          "data": {
            "text/plain": [
              "<tf.Tensor: shape=(2,), dtype=int32, numpy=array([4, 8], dtype=int32)>"
            ]
          },
          "metadata": {},
          "execution_count": 5
        }
      ]
    },
    {
      "cell_type": "code",
      "source": [
        "scalar.ndim"
      ],
      "metadata": {
        "colab": {
          "base_uri": "https://localhost:8080/"
        },
        "id": "I65zEGaLxbvu",
        "outputId": "57ace7c1-a3dc-439c-b71a-5413373e8a85"
      },
      "execution_count": null,
      "outputs": [
        {
          "output_type": "execute_result",
          "data": {
            "text/plain": [
              "0"
            ]
          },
          "metadata": {},
          "execution_count": 7
        }
      ]
    },
    {
      "cell_type": "code",
      "source": [
        "# 'vector' is a TensorFlow constant that represents a 1-dimensional tensor (a vector).\n",
        "# The value of this constant is set to the list [4, 8].\n",
        "# A vector in TensorFlow is a 1-dimensional tensor, meaning it has a single axis with a specific length.\n",
        "vector = tf.constant([4, 8])\n",
        "\n",
        "vector  # This will output the vector tensor with values [4, 8]."
      ],
      "metadata": {
        "colab": {
          "base_uri": "https://localhost:8080/"
        },
        "id": "Qh968U-lxMKs",
        "outputId": "7d464d32-bd4a-4a35-8f9c-99bf54fb3deb"
      },
      "execution_count": null,
      "outputs": [
        {
          "output_type": "execute_result",
          "data": {
            "text/plain": [
              "<tf.Tensor: shape=(2,), dtype=int32, numpy=array([4, 8], dtype=int32)>"
            ]
          },
          "metadata": {},
          "execution_count": 6
        }
      ]
    },
    {
      "cell_type": "code",
      "source": [
        "vector.ndim"
      ],
      "metadata": {
        "colab": {
          "base_uri": "https://localhost:8080/"
        },
        "id": "DPpXPSNcxfLD",
        "outputId": "700a67b7-5d5c-46ef-aee6-522e0a9f9a79"
      },
      "execution_count": null,
      "outputs": [
        {
          "output_type": "execute_result",
          "data": {
            "text/plain": [
              "1"
            ]
          },
          "metadata": {},
          "execution_count": 8
        }
      ]
    },
    {
      "cell_type": "code",
      "source": [
        "matrix = tf.constant([\n",
        "    [4,3,1],\n",
        "    [1,0,6]\n",
        "])\n",
        "\n",
        "matrix"
      ],
      "metadata": {
        "colab": {
          "base_uri": "https://localhost:8080/"
        },
        "id": "4YZ7LiouxhiV",
        "outputId": "efeb0bc1-1e34-4050-89ae-dca90e351b48"
      },
      "execution_count": null,
      "outputs": [
        {
          "output_type": "execute_result",
          "data": {
            "text/plain": [
              "<tf.Tensor: shape=(2, 3), dtype=int32, numpy=\n",
              "array([[4, 3, 1],\n",
              "       [1, 0, 6]], dtype=int32)>"
            ]
          },
          "metadata": {},
          "execution_count": 9
        }
      ]
    },
    {
      "cell_type": "code",
      "source": [
        "matrix.ndim"
      ],
      "metadata": {
        "colab": {
          "base_uri": "https://localhost:8080/"
        },
        "id": "ftCU7P1BxtWe",
        "outputId": "13e6b1ea-e2f0-44e9-82eb-3e33a422e4d5"
      },
      "execution_count": null,
      "outputs": [
        {
          "output_type": "execute_result",
          "data": {
            "text/plain": [
              "2"
            ]
          },
          "metadata": {},
          "execution_count": 10
        }
      ]
    },
    {
      "cell_type": "code",
      "source": [
        "matrix2 = tf.constant([\n",
        "    [2.0 , 3.6],\n",
        "    [1.7 , 2.3]\n",
        "])\n",
        "\n",
        "print(\"\\nmatrix2\")\n",
        "print(f\"shape > {matrix2.shape}\") # shape\n",
        "print(f\"dtype > {matrix2.dtype}\") # dtype\n",
        "print(f\"ndim > {matrix2.ndim}\\n\") # dimension\n",
        "\n",
        "matrix3 = tf.constant([\n",
        "    [2. , 5.],\n",
        "    [6. , 1.]\n",
        "],dtype=tf.float16)  # specify the data type with dtype prameter\n",
        "\n",
        "print(\"matrix3\")\n",
        "print(f\"shape > {matrix3.shape}\")\n",
        "print(f\"dtype > {matrix3.dtype}\")\n",
        "print(f\"ndim > {matrix3.ndim}\\n\")"
      ],
      "metadata": {
        "colab": {
          "base_uri": "https://localhost:8080/"
        },
        "id": "lByGm290x7XE",
        "outputId": "723cb77a-d2e9-4152-fe15-1ddb338b14d6"
      },
      "execution_count": null,
      "outputs": [
        {
          "output_type": "stream",
          "name": "stdout",
          "text": [
            "\n",
            "matrix2\n",
            "shape > (2, 2)\n",
            "dtype > <dtype: 'float32'>\n",
            "ndim > 2\n",
            "\n",
            "matrix3\n",
            "shape > (2, 2)\n",
            "dtype > <dtype: 'float16'>\n",
            "ndim > 2\n",
            "\n"
          ]
        }
      ]
    },
    {
      "cell_type": "code",
      "source": [
        "tensor1 = tf.constant([\n",
        "    [\n",
        "        [0 , 1 , 2 , 3 , 4],\n",
        "        [5 , 6 , 7 , 8 , 9]\n",
        "    ],\n",
        "    [\n",
        "        [10 , 11 , 12 , 13 , 14],\n",
        "        [15 , 16 , 17 , 18 , 19]\n",
        "    ],\n",
        "    [\n",
        "        [20 , 21 , 22 , 23 , 24],\n",
        "        [25 , 26 , 27 , 28 , 29]\n",
        "    ]\n",
        "])"
      ],
      "metadata": {
        "id": "TaRrvzgOz5MN"
      },
      "execution_count": null,
      "outputs": []
    },
    {
      "cell_type": "markdown",
      "source": [
        "<p align=\"center\">\n",
        "  <img src=\"https://www.tensorflow.org/static/guide/images/tensor/3-axis_numpy.png\" alt=\"Numpy Axes\" width=\"200\"/>\n",
        "  <img src=\"https://www.tensorflow.org/static/guide/images/tensor/3-axis_front.png\" alt=\"Front Axes\" width=\"200\"/>\n",
        "  <img src=\"https://www.tensorflow.org/static/guide/images/tensor/3-axis_block.png\" alt=\"Block Axes\" width=\"200\"/>\n",
        "</p>"
      ],
      "metadata": {
        "id": "lsPYqQYU07iN"
      }
    },
    {
      "cell_type": "code",
      "source": [
        "tensor1"
      ],
      "metadata": {
        "colab": {
          "base_uri": "https://localhost:8080/"
        },
        "id": "ujqZU8Y908ge",
        "outputId": "f49f6afa-d8ed-48c6-9981-d32e171b59c8"
      },
      "execution_count": null,
      "outputs": [
        {
          "output_type": "execute_result",
          "data": {
            "text/plain": [
              "<tf.Tensor: shape=(3, 2, 5), dtype=int32, numpy=\n",
              "array([[[ 0,  1,  2,  3,  4],\n",
              "        [ 5,  6,  7,  8,  9]],\n",
              "\n",
              "       [[10, 11, 12, 13, 14],\n",
              "        [15, 16, 17, 18, 19]],\n",
              "\n",
              "       [[20, 21, 22, 23, 24],\n",
              "        [25, 26, 27, 28, 29]]], dtype=int32)>"
            ]
          },
          "metadata": {},
          "execution_count": 28
        }
      ]
    },
    {
      "cell_type": "code",
      "source": [
        "tensor1.shape"
      ],
      "metadata": {
        "colab": {
          "base_uri": "https://localhost:8080/"
        },
        "id": "bvba1xqLz2lQ",
        "outputId": "c181141d-9e97-43e3-cadc-1b3a6f5e5e67"
      },
      "execution_count": null,
      "outputs": [
        {
          "output_type": "execute_result",
          "data": {
            "text/plain": [
              "TensorShape([3, 2, 5])"
            ]
          },
          "metadata": {},
          "execution_count": 29
        }
      ]
    },
    {
      "cell_type": "code",
      "source": [
        "tensor1.ndim"
      ],
      "metadata": {
        "colab": {
          "base_uri": "https://localhost:8080/"
        },
        "id": "RyCDdwfB2uoj",
        "outputId": "75dcc333-f9c4-4d27-c941-a328e43a29ce"
      },
      "execution_count": null,
      "outputs": [
        {
          "output_type": "execute_result",
          "data": {
            "text/plain": [
              "3"
            ]
          },
          "metadata": {},
          "execution_count": 30
        }
      ]
    },
    {
      "cell_type": "code",
      "source": [
        "tensor1.numpy() # Converts the TensorFlow tensor 'tensor1' to a NumPy array."
      ],
      "metadata": {
        "colab": {
          "base_uri": "https://localhost:8080/"
        },
        "id": "lKarucqe0lOI",
        "outputId": "0687e01a-f393-4c00-aca2-c57182a2a0cf"
      },
      "execution_count": null,
      "outputs": [
        {
          "output_type": "execute_result",
          "data": {
            "text/plain": [
              "array([[[ 0,  1,  2,  3,  4],\n",
              "        [ 5,  6,  7,  8,  9]],\n",
              "\n",
              "       [[10, 11, 12, 13, 14],\n",
              "        [15, 16, 17, 18, 19]],\n",
              "\n",
              "       [[20, 21, 22, 23, 24],\n",
              "        [25, 26, 27, 28, 29]]], dtype=int32)"
            ]
          },
          "metadata": {},
          "execution_count": 26
        }
      ]
    },
    {
      "cell_type": "code",
      "source": [
        "t1 = tf.constant([4, 2, 7, 6, 9, 8, 3])\n",
        "\n",
        "# Compute min, max, mean, and sum\n",
        "min_value = tf.reduce_min(t1)\n",
        "max_value = tf.reduce_max(t1)\n",
        "mean_value = tf.reduce_mean(t1)\n",
        "sum_value = tf.reduce_sum(t1)\n",
        "variance_value = tf.math.reduce_variance(tf.cast(t1, tf.float32))\n",
        "std_deviation = tf.math.reduce_std(tf.cast(t1, tf.float32))\n",
        "\n",
        "# Print the results\n",
        "print(f\"Minimum value: {min_value.numpy()}\")\n",
        "print(f\"Maximum value: {max_value.numpy()}\")\n",
        "print(f\"Mean value: {mean_value.numpy()}\")\n",
        "print(f\"Sum of elements: {sum_value.numpy()}\")\n",
        "print(f\"Variance: {variance_value.numpy()}\")\n",
        "print(f\"Standard Deviation: {std_deviation.numpy()}\")"
      ],
      "metadata": {
        "colab": {
          "base_uri": "https://localhost:8080/"
        },
        "id": "f4FtkKwA506m",
        "outputId": "19f7fd97-e009-49c9-9a26-434f22625a10"
      },
      "execution_count": 56,
      "outputs": [
        {
          "output_type": "stream",
          "name": "stdout",
          "text": [
            "Minimum value: 2\n",
            "Maximum value: 9\n",
            "Mean value: 5\n",
            "Sum of elements: 39\n",
            "Variance: 5.959183692932129\n",
            "Standard Deviation: 2.4411439895629883\n"
          ]
        }
      ]
    },
    {
      "cell_type": "markdown",
      "source": [
        "## **Tensor Arithmetic Operations**"
      ],
      "metadata": {
        "id": "H90fKgh26fHY"
      }
    },
    {
      "cell_type": "code",
      "source": [
        "# Define two tensors\n",
        "tensor1 = tf.constant([15, 9, 7, 2])\n",
        "tensor2 = tf.constant([5, 6, 7, 8])"
      ],
      "metadata": {
        "id": "frwTRHQl6ltj"
      },
      "execution_count": null,
      "outputs": []
    },
    {
      "cell_type": "code",
      "source": [
        "# Element-wise addition\n",
        "addition_result = tf.add(tensor1, tensor2)\n",
        "print(\"Addition Result:\", addition_result.numpy())"
      ],
      "metadata": {
        "colab": {
          "base_uri": "https://localhost:8080/"
        },
        "id": "bvE8OHTg6pQM",
        "outputId": "d7cca5cc-db4e-4391-d2d3-2fc370b22e74"
      },
      "execution_count": null,
      "outputs": [
        {
          "output_type": "stream",
          "name": "stdout",
          "text": [
            "Addition Result: [20 15 14 10]\n"
          ]
        }
      ]
    },
    {
      "cell_type": "code",
      "source": [
        "# Element-wise subtraction\n",
        "subtraction_result = tf.subtract(tensor1, tensor2)\n",
        "print(\"Subtraction Result:\", subtraction_result.numpy())"
      ],
      "metadata": {
        "colab": {
          "base_uri": "https://localhost:8080/"
        },
        "id": "_9TDZBu26yk_",
        "outputId": "08f02c5e-305c-4633-9d31-df69da2ccb55"
      },
      "execution_count": null,
      "outputs": [
        {
          "output_type": "stream",
          "name": "stdout",
          "text": [
            "Subtraction Result: [10  3  0 -6]\n"
          ]
        }
      ]
    },
    {
      "cell_type": "code",
      "source": [
        "# Element-wise multiplication\n",
        "multiplication_result = tf.multiply(tensor1, tensor2)\n",
        "print(\"Multiplication Result:\", multiplication_result.numpy())"
      ],
      "metadata": {
        "colab": {
          "base_uri": "https://localhost:8080/"
        },
        "id": "gkW_59IJDHbT",
        "outputId": "70375867-278b-4879-fb6d-5d9f1c23a9bd"
      },
      "execution_count": null,
      "outputs": [
        {
          "output_type": "stream",
          "name": "stdout",
          "text": [
            "Multiplication Result: [75 54 49 16]\n"
          ]
        }
      ]
    },
    {
      "cell_type": "code",
      "source": [
        "# Element-wise division\n",
        "division_result = tf.divide(tensor1, tensor2)\n",
        "print(\"Division Result:\", division_result.numpy())"
      ],
      "metadata": {
        "colab": {
          "base_uri": "https://localhost:8080/"
        },
        "id": "7yDsg9siDMyC",
        "outputId": "02c56cb1-06d3-41e3-84fa-12f8ab2f167e"
      },
      "execution_count": null,
      "outputs": [
        {
          "output_type": "stream",
          "name": "stdout",
          "text": [
            "Division Result: [3.   1.5  1.   0.25]\n"
          ]
        }
      ]
    },
    {
      "cell_type": "code",
      "source": [
        "# Define two 2D tensors (matrices)\n",
        "matrix1 = tf.constant([[1, 2], [3, 4]])\n",
        "matrix2 = tf.constant([[5, 6], [7, 8]])\n",
        "\n",
        "# Matrix multiplication\n",
        "matrix_multiplication_result = tf.matmul(matrix1, matrix2)\n",
        "print(\"Matrix Multiplication Result:\\n\", matrix_multiplication_result.numpy())"
      ],
      "metadata": {
        "colab": {
          "base_uri": "https://localhost:8080/"
        },
        "id": "tKWotfvpDZOV",
        "outputId": "d5bec483-1171-4413-85ca-42f641e8ffdf"
      },
      "execution_count": null,
      "outputs": [
        {
          "output_type": "stream",
          "name": "stdout",
          "text": [
            "Matrix Multiplication Result:\n",
            " [[19 22]\n",
            " [43 50]]\n"
          ]
        }
      ]
    },
    {
      "cell_type": "code",
      "source": [
        "v1 = tf.constant([3, 2, 4], dtype=tf.float32)\n",
        "v2 = tf.constant([1, 4, 2], dtype=tf.float32)\n",
        "\n",
        "# Dot Product\n",
        "dot_product = tf.tensordot(v1, v2, axes=1)\n",
        "print(\"Dot Product:\", dot_product.numpy())\n",
        "\n",
        "# Cross Product\n",
        "cross_product = tf.linalg.cross(v1, v2)\n",
        "print(\"Cross Product:\", cross_product.numpy())"
      ],
      "metadata": {
        "colab": {
          "base_uri": "https://localhost:8080/"
        },
        "id": "VsGuWFK6MI9t",
        "outputId": "c1f1c54f-91e0-4b81-84bc-8da1573fad25"
      },
      "execution_count": 88,
      "outputs": [
        {
          "output_type": "stream",
          "name": "stdout",
          "text": [
            "Dot Product: 19.0\n",
            "Cross Product: [-12.  -2.  10.]\n"
          ]
        }
      ]
    },
    {
      "cell_type": "markdown",
      "source": [
        "##**tf.Variable**"
      ],
      "metadata": {
        "id": "p96nOVwn3hao"
      }
    },
    {
      "cell_type": "code",
      "source": [
        "v1 = tf.Variable([10,10])\n",
        "\n",
        "v1"
      ],
      "metadata": {
        "colab": {
          "base_uri": "https://localhost:8080/"
        },
        "id": "CiFMu55o3eDd",
        "outputId": "086dde5b-18fc-4c11-e590-f740f6dd43cc"
      },
      "execution_count": null,
      "outputs": [
        {
          "output_type": "execute_result",
          "data": {
            "text/plain": [
              "<tf.Variable 'Variable:0' shape=(2,) dtype=int32, numpy=array([10, 10], dtype=int32)>"
            ]
          },
          "metadata": {},
          "execution_count": 42
        }
      ]
    },
    {
      "cell_type": "markdown",
      "source": [
        "# TensorFlow Variables vs Constants\n",
        "\n",
        "## TensorFlow Variable\n",
        "\n",
        "- **Definition**: `tf.Variable` creates a mutable tensor.\n",
        "- **Initialization**: For example, `v1 = tf.Variable([10, 10])`.\n",
        "- **Mutability**: The value of a `tf.Variable` can be updated during execution.\n",
        "- **Use Case**: Useful for parameters in machine learning models that need to be adjusted during training.\n",
        "\n",
        "## TensorFlow Constant\n",
        "\n",
        "- **Definition**: `tf.constant` creates an immutable tensor.\n",
        "- **Initialization**: For example, `constant = tf.constant([10, 10])`.\n",
        "- **Immutability**: Once a constant is created, its value cannot be changed.\n",
        "- **Use Case**: Generally used for fixed values that do not need to be updated.\n",
        "\n",
        "## Summary\n",
        "\n",
        "- **`tf.constant([10, 10])`**: Unchangeable (constant value, cannot be modified)\n",
        "- **`tf.Variable([10, 10])`**: Changeable (variable value, can be updated)\n"
      ],
      "metadata": {
        "id": "GGaEyvYO4tkB"
      }
    },
    {
      "cell_type": "code",
      "source": [
        "v1[1].assign(7)\n",
        "v1"
      ],
      "metadata": {
        "colab": {
          "base_uri": "https://localhost:8080/"
        },
        "id": "LwS1dThu4UHe",
        "outputId": "f41ea3f8-767c-4d3f-b0f2-7fd67a33754c"
      },
      "execution_count": null,
      "outputs": [
        {
          "output_type": "execute_result",
          "data": {
            "text/plain": [
              "<tf.Variable 'Variable:0' shape=(2,) dtype=int32, numpy=array([10,  7], dtype=int32)>"
            ]
          },
          "metadata": {},
          "execution_count": 43
        }
      ]
    },
    {
      "cell_type": "code",
      "source": [
        "v1.assign_add([0,3]) # # Add [0, 3] to the current value of v1\n",
        "\n",
        "v1"
      ],
      "metadata": {
        "colab": {
          "base_uri": "https://localhost:8080/"
        },
        "id": "n8uhp7bO4Htt",
        "outputId": "d782868a-da30-4033-c781-a9c4791181f3"
      },
      "execution_count": null,
      "outputs": [
        {
          "output_type": "execute_result",
          "data": {
            "text/plain": [
              "<tf.Variable 'Variable:0' shape=(2,) dtype=int32, numpy=array([10, 10], dtype=int32)>"
            ]
          },
          "metadata": {},
          "execution_count": 44
        }
      ]
    },
    {
      "cell_type": "markdown",
      "source": [
        "## **Different Types of Tensors**"
      ],
      "metadata": {
        "id": "OUroyUNxDq5H"
      }
    },
    {
      "cell_type": "markdown",
      "source": [
        "## Random Tensor"
      ],
      "metadata": {
        "id": "cUtFL2GGEGHp"
      }
    },
    {
      "cell_type": "code",
      "source": [
        "tf.random.set_seed(42)\n",
        "r1 = tf.random.uniform(shape=[2,3],minval=10,maxval=40,dtype=tf.int32)\n",
        "print(\"Random Tensor:\\n\", r1.numpy())"
      ],
      "metadata": {
        "colab": {
          "base_uri": "https://localhost:8080/"
        },
        "id": "XMX9brq7EBlG",
        "outputId": "ce4ea4da-29e1-413e-a3a3-b56a5ffff0e5"
      },
      "execution_count": 53,
      "outputs": [
        {
          "output_type": "stream",
          "name": "stdout",
          "text": [
            "Random Tensor:\n",
            " [[17 39 21]\n",
            " [16 32 24]]\n"
          ]
        }
      ]
    },
    {
      "cell_type": "code",
      "source": [
        "r = tf.constant([[3,6],[6,9],[0,1]])\n",
        "print(r.numpy())\n",
        "print(\"----------\")\n",
        "print(tf.random.shuffle(r).numpy())"
      ],
      "metadata": {
        "colab": {
          "base_uri": "https://localhost:8080/"
        },
        "id": "3xPIGtpi7ZUg",
        "outputId": "7a770e32-9ea0-4cf3-90ce-e0cbf09c6f49"
      },
      "execution_count": 69,
      "outputs": [
        {
          "output_type": "stream",
          "name": "stdout",
          "text": [
            "[[3 6]\n",
            " [6 9]\n",
            " [0 1]]\n",
            "----------\n",
            "[[0 1]\n",
            " [6 9]\n",
            " [3 6]]\n"
          ]
        }
      ]
    },
    {
      "cell_type": "code",
      "source": [
        "r2 = tf.random.normal(shape=[1,10],mean=4,stddev=1)\n",
        "print(\"Random Normal Tensor:\\n\", r2.numpy())"
      ],
      "metadata": {
        "colab": {
          "base_uri": "https://localhost:8080/"
        },
        "id": "6xBOX0ITEmwx",
        "outputId": "34d8dba1-099d-4f9c-b8be-639247d64562"
      },
      "execution_count": 60,
      "outputs": [
        {
          "output_type": "stream",
          "name": "stdout",
          "text": [
            "Random Normal Tensor:\n",
            " [[4.0092463 3.3379374 3.2589731 5.1985264 4.8636208 4.3925757 4.934575\n",
            "  3.8398254 1.8949466 5.3769717]]\n"
          ]
        }
      ]
    },
    {
      "cell_type": "markdown",
      "source": [
        "## Fill Tensor"
      ],
      "metadata": {
        "id": "guQIjIfSFGMB"
      }
    },
    {
      "cell_type": "code",
      "source": [
        "f1 = tf.fill(dims=[2,4],value=6)\n",
        "print(\"Filled Tensor:\\n\", f1.numpy())"
      ],
      "metadata": {
        "colab": {
          "base_uri": "https://localhost:8080/"
        },
        "id": "2FLHEz2wFI76",
        "outputId": "0eea1ab9-4327-4d0d-ebc1-2650e3021147"
      },
      "execution_count": null,
      "outputs": [
        {
          "output_type": "stream",
          "name": "stdout",
          "text": [
            "Filled Tensor:\n",
            " [[6 6 6 6]\n",
            " [6 6 6 6]]\n"
          ]
        }
      ]
    },
    {
      "cell_type": "markdown",
      "source": [
        "## Identity Tensor"
      ],
      "metadata": {
        "id": "N3wUte6zFWXQ"
      }
    },
    {
      "cell_type": "code",
      "source": [
        "i = tf.eye(4)\n",
        "print(\"Identity Tensor:\\n\", i.numpy())"
      ],
      "metadata": {
        "colab": {
          "base_uri": "https://localhost:8080/"
        },
        "id": "lfMLc5i1FXhW",
        "outputId": "fc55c1e6-7541-4728-ca36-130b26b8e849"
      },
      "execution_count": null,
      "outputs": [
        {
          "output_type": "stream",
          "name": "stdout",
          "text": [
            "Identity Tensor:\n",
            " [[1. 0. 0. 0.]\n",
            " [0. 1. 0. 0.]\n",
            " [0. 0. 1. 0.]\n",
            " [0. 0. 0. 1.]]\n"
          ]
        }
      ]
    },
    {
      "cell_type": "code",
      "source": [
        "import numpy as np\n",
        "\n",
        "arr = np.array([4,8,1,5])\n",
        "tarr = tf.constant(arr)\n",
        "tarr"
      ],
      "metadata": {
        "colab": {
          "base_uri": "https://localhost:8080/"
        },
        "id": "FDbLFZPS9CA4",
        "outputId": "e24822c8-c10b-4c3d-d0ae-52320b825b71"
      },
      "execution_count": 70,
      "outputs": [
        {
          "output_type": "execute_result",
          "data": {
            "text/plain": [
              "<tf.Tensor: shape=(4,), dtype=int64, numpy=array([4, 8, 1, 5])>"
            ]
          },
          "metadata": {},
          "execution_count": 70
        }
      ]
    },
    {
      "cell_type": "markdown",
      "source": [
        "## **Math Functions**\n",
        "\n",
        "## tf.math.abs"
      ],
      "metadata": {
        "id": "rcE2x_eBFqve"
      }
    },
    {
      "cell_type": "code",
      "source": [
        "t1 = tf.constant([ 6.3 , -4.2 , -1.8])\n",
        "\n",
        "print(tf.abs(t1).numpy())"
      ],
      "metadata": {
        "colab": {
          "base_uri": "https://localhost:8080/"
        },
        "id": "jlYyPEqLFsXg",
        "outputId": "6f6a3d93-4e64-443a-9f7b-606fc35c949c"
      },
      "execution_count": null,
      "outputs": [
        {
          "output_type": "stream",
          "name": "stdout",
          "text": [
            "[6.3 4.2 1.8]\n"
          ]
        }
      ]
    },
    {
      "cell_type": "code",
      "source": [
        "t2 = tf.constant([[4-3j],[-8+6j]])  # complex numbers\n",
        "print(tf.abs(t2).numpy())"
      ],
      "metadata": {
        "colab": {
          "base_uri": "https://localhost:8080/"
        },
        "id": "mC5sK-H4HhZ0",
        "outputId": "a96df469-e7b6-4722-c046-fe69cb8c41aa"
      },
      "execution_count": null,
      "outputs": [
        {
          "output_type": "stream",
          "name": "stdout",
          "text": [
            "[[ 5.]\n",
            " [10.]]\n"
          ]
        }
      ]
    },
    {
      "cell_type": "markdown",
      "source": [
        "##tf.math.add_n"
      ],
      "metadata": {
        "id": "RTVgcs_CtyeW"
      }
    },
    {
      "cell_type": "code",
      "source": [
        "t1 = tf.constant([[2,4],[5,3]])\n",
        "t2 = tf.constant([[3,6],[1,4]])\n",
        "\n",
        "result = tf.math.add_n([t1, t2])\n",
        "print(result.numpy())"
      ],
      "metadata": {
        "id": "MkR6xQA6uel1",
        "colab": {
          "base_uri": "https://localhost:8080/"
        },
        "outputId": "8f42e54c-b753-4521-fecd-71dce65557c6"
      },
      "execution_count": 5,
      "outputs": [
        {
          "output_type": "stream",
          "name": "stdout",
          "text": [
            "[[ 5 10]\n",
            " [ 6  7]]\n"
          ]
        }
      ]
    },
    {
      "cell_type": "markdown",
      "source": [
        "## tf.math.add"
      ],
      "metadata": {
        "id": "S0P0PFKSx8pN"
      }
    },
    {
      "cell_type": "code",
      "source": [
        "x = tf.constant([3,6,1,7])\n",
        "a = tf.constant(1)\n",
        "\n",
        "print(tf.add(x,a))"
      ],
      "metadata": {
        "colab": {
          "base_uri": "https://localhost:8080/"
        },
        "id": "aJNzTEsdx93Z",
        "outputId": "c4a58249-567a-4194-e862-d557e9d7834e"
      },
      "execution_count": 12,
      "outputs": [
        {
          "output_type": "stream",
          "name": "stdout",
          "text": [
            "tf.Tensor([4 7 2 8], shape=(4,), dtype=int32)\n"
          ]
        }
      ]
    },
    {
      "cell_type": "markdown",
      "source": [
        "## square"
      ],
      "metadata": {
        "id": "6eACIpCbASj8"
      }
    },
    {
      "cell_type": "code",
      "source": [
        "asq = tf.constant([1,2,3,4,5])\n",
        "print(f\"x   > {asq.numpy()}\")\n",
        "print(f\"x^2 > {tf.square(asq).numpy()}\")"
      ],
      "metadata": {
        "colab": {
          "base_uri": "https://localhost:8080/"
        },
        "id": "WQnUKHQaAUX-",
        "outputId": "a98c706b-261a-4d44-a91a-0910f530990b"
      },
      "execution_count": 69,
      "outputs": [
        {
          "output_type": "stream",
          "name": "stdout",
          "text": [
            "x   > [1 2 3 4 5]\n",
            "x^2 > [ 1  4  9 16 25]\n"
          ]
        }
      ]
    },
    {
      "cell_type": "markdown",
      "source": [
        "## sqrt"
      ],
      "metadata": {
        "id": "8h7QNW9OA8_T"
      }
    },
    {
      "cell_type": "code",
      "source": [
        "asr = tf.constant([81, 49],dtype=tf.float32)\n",
        "print(f\"x^2   > {asr.numpy()}\")\n",
        "sqrt_values = tf.sqrt(asr)\n",
        "print(f\"x > {sqrt_values.numpy()}\")"
      ],
      "metadata": {
        "colab": {
          "base_uri": "https://localhost:8080/"
        },
        "id": "pVN9Du0IA-Uz",
        "outputId": "023f4e23-5309-419d-8199-36681eecc8d5"
      },
      "execution_count": 73,
      "outputs": [
        {
          "output_type": "stream",
          "name": "stdout",
          "text": [
            "x^2   > [81. 49.]\n",
            "x > [9. 7.]\n"
          ]
        }
      ]
    },
    {
      "cell_type": "markdown",
      "source": [
        "## tf.math.angle"
      ],
      "metadata": {
        "id": "ycec5MoFykzp"
      }
    },
    {
      "cell_type": "code",
      "source": [
        "c1 = tf.constant([1 + 0j])\n",
        "print(tf.math.angle(c1))\n",
        "\n",
        "c2 = tf.constant([3 + 4j])\n",
        "print(tf.math.angle(c2))"
      ],
      "metadata": {
        "colab": {
          "base_uri": "https://localhost:8080/"
        },
        "id": "6vNNKBwXynEL",
        "outputId": "a2e511fa-7f3d-4b2c-a7b8-ef82c9277a51"
      },
      "execution_count": 16,
      "outputs": [
        {
          "output_type": "stream",
          "name": "stdout",
          "text": [
            "tf.Tensor([0.], shape=(1,), dtype=float64)\n",
            "tf.Tensor([0.92729522], shape=(1,), dtype=float64)\n"
          ]
        }
      ]
    },
    {
      "cell_type": "markdown",
      "source": [
        "## tf.math.argmax"
      ],
      "metadata": {
        "id": "KxlBSu6U0Bv8"
      }
    },
    {
      "cell_type": "code",
      "source": [
        "t1 = tf.constant([4,2,12,8,10])\n",
        "max = tf.math.argmax(t1)\n",
        "print(t1[max])\n",
        "min = tf.math.argmin(t1)\n",
        "print(t1[min])"
      ],
      "metadata": {
        "colab": {
          "base_uri": "https://localhost:8080/"
        },
        "id": "6EH7tXGx0C4L",
        "outputId": "478372ea-22cb-44ca-9b2c-5707ce5bbd22"
      },
      "execution_count": 23,
      "outputs": [
        {
          "output_type": "stream",
          "name": "stdout",
          "text": [
            "tf.Tensor(12, shape=(), dtype=int32)\n",
            "tf.Tensor(2, shape=(), dtype=int32)\n"
          ]
        }
      ]
    },
    {
      "cell_type": "markdown",
      "source": [
        "## tf.math.exp"
      ],
      "metadata": {
        "id": "W3HjYC3D1zq9"
      }
    },
    {
      "cell_type": "code",
      "source": [
        "# y = e^x\n",
        "x = tf.constant(2.0)\n",
        "y = tf.math.exp(x)\n",
        "y"
      ],
      "metadata": {
        "colab": {
          "base_uri": "https://localhost:8080/"
        },
        "id": "G1gx33H-10sM",
        "outputId": "0bd31ee2-a147-47cb-9214-986bdc0d5ff2"
      },
      "execution_count": 25,
      "outputs": [
        {
          "output_type": "execute_result",
          "data": {
            "text/plain": [
              "<tf.Tensor: shape=(), dtype=float32, numpy=7.389056>"
            ]
          },
          "metadata": {},
          "execution_count": 25
        }
      ]
    },
    {
      "cell_type": "markdown",
      "source": [
        "## tf.math.log"
      ],
      "metadata": {
        "id": "OEyhcSRN3IZc"
      }
    },
    {
      "cell_type": "code",
      "source": [
        "x = tf.constant(4, dtype=tf.float32)\n",
        "y = tf.math.log(x)\n",
        "y"
      ],
      "metadata": {
        "colab": {
          "base_uri": "https://localhost:8080/"
        },
        "id": "lxGviqs53MbI",
        "outputId": "fa2346ad-a966-4afb-b2cc-4405d0ed654f"
      },
      "execution_count": 32,
      "outputs": [
        {
          "output_type": "execute_result",
          "data": {
            "text/plain": [
              "<tf.Tensor: shape=(), dtype=float32, numpy=1.3862944>"
            ]
          },
          "metadata": {},
          "execution_count": 32
        }
      ]
    },
    {
      "cell_type": "markdown",
      "source": [
        "## tf.math.sigmoid"
      ],
      "metadata": {
        "id": "pfCpsSEy4P4X"
      }
    },
    {
      "cell_type": "code",
      "source": [
        "x = tf.constant([-5 , 0 , 5],dtype=tf.float32)\n",
        "y = tf.math.sigmoid(x)\n",
        "y.numpy()"
      ],
      "metadata": {
        "colab": {
          "base_uri": "https://localhost:8080/"
        },
        "id": "g_epFQiw4S46",
        "outputId": "cea58b68-1e2a-4db1-e4eb-48b062a49777"
      },
      "execution_count": 41,
      "outputs": [
        {
          "output_type": "execute_result",
          "data": {
            "text/plain": [
              "array([0.00669285, 0.5       , 0.9933072 ], dtype=float32)"
            ]
          },
          "metadata": {},
          "execution_count": 41
        }
      ]
    },
    {
      "cell_type": "markdown",
      "source": [
        "## tensor attributes\n",
        "\n",
        "## 1. Shape\n",
        "\n",
        "- **Definition**: The shape of a tensor describes the number of elements along each axis. It is often represented as a tuple of integers.\n",
        "- **Example**: For a 2D tensor like `[[3, 6], [6, 9], [0, 1]]`, the shape is `(3, 2)`, meaning 3 rows and 2 columns.\n",
        "\n",
        "## 2. Rank\n",
        "\n",
        "- **Definition**: The rank of a tensor refers to the number of dimensions or axes it has. It is an integer.\n",
        "- **Example**: For the tensor `[[3, 6], [6, 9], [0, 1]]`, which has 2 dimensions (rows and columns), the rank is `2`.\n",
        "\n",
        "## 3. Axis or Dimension\n",
        "\n",
        "- **Definition**: An axis (or dimension) refers to a particular direction along which the tensor's shape is defined. Each axis corresponds to a dimension in the tensor's shape.\n",
        "- **Example**: In a 2D tensor with shape `(3, 2)`, axis 0 represents the rows, and axis 1 represents the columns.\n",
        "\n",
        "## 4. Size\n",
        "\n",
        "- **Definition**: The size of a tensor is the total number of elements it contains. It is the product of the sizes of all its dimensions.\n",
        "- **Example**: For a tensor with shape `(3, 2)`, the size is `3 * 2 = 6`.\n",
        "\n",
        "## Summary with 4D Example\n",
        "\n",
        "Given the 4D tensor with shape `[2, 3, 4, 5]`:\n",
        "\n",
        "- **Shape**: `(2, 3, 4, 5)`\n",
        "  - This represents a tensor with 2 blocks\n",
        "  - Each block contains 3 matrices\n",
        "  - Each matrix has 4 rows\n",
        "  - Each row contains 5 elements\n",
        "- **Rank**: `4` (4D tensor)\n",
        "- **Axis or Dimension**:\n",
        "  - Axis 0: Represents the blocks (2 blocks)\n",
        "  - Axis 1: Represents the matrices in each block (3 matrices per block)\n",
        "  - Axis 2: Represents the rows in each matrix (4 rows per matrix)\n",
        "  - Axis 3: Represents the elements in each row (5 elements per row)\n",
        "- **Size**: `2 * 3 * 4 * 5 = 120` (total number of elements)"
      ],
      "metadata": {
        "id": "NZWxHciW9aGv"
      }
    },
    {
      "cell_type": "code",
      "source": [
        "rank_4 = tf.zeros(shape=[2,3,4,5])\n",
        "rank_4.numpy()"
      ],
      "metadata": {
        "colab": {
          "base_uri": "https://localhost:8080/"
        },
        "id": "T9NgUerw8vO1",
        "outputId": "e0b0c045-ad17-43ed-fc52-fb50587ccb81"
      },
      "execution_count": 72,
      "outputs": [
        {
          "output_type": "execute_result",
          "data": {
            "text/plain": [
              "array([[[[0., 0., 0., 0., 0.],\n",
              "         [0., 0., 0., 0., 0.],\n",
              "         [0., 0., 0., 0., 0.],\n",
              "         [0., 0., 0., 0., 0.]],\n",
              "\n",
              "        [[0., 0., 0., 0., 0.],\n",
              "         [0., 0., 0., 0., 0.],\n",
              "         [0., 0., 0., 0., 0.],\n",
              "         [0., 0., 0., 0., 0.]],\n",
              "\n",
              "        [[0., 0., 0., 0., 0.],\n",
              "         [0., 0., 0., 0., 0.],\n",
              "         [0., 0., 0., 0., 0.],\n",
              "         [0., 0., 0., 0., 0.]]],\n",
              "\n",
              "\n",
              "       [[[0., 0., 0., 0., 0.],\n",
              "         [0., 0., 0., 0., 0.],\n",
              "         [0., 0., 0., 0., 0.],\n",
              "         [0., 0., 0., 0., 0.]],\n",
              "\n",
              "        [[0., 0., 0., 0., 0.],\n",
              "         [0., 0., 0., 0., 0.],\n",
              "         [0., 0., 0., 0., 0.],\n",
              "         [0., 0., 0., 0., 0.]],\n",
              "\n",
              "        [[0., 0., 0., 0., 0.],\n",
              "         [0., 0., 0., 0., 0.],\n",
              "         [0., 0., 0., 0., 0.],\n",
              "         [0., 0., 0., 0., 0.]]]], dtype=float32)"
            ]
          },
          "metadata": {},
          "execution_count": 72
        }
      ]
    },
    {
      "cell_type": "code",
      "source": [
        "print(rank_4.shape)\n",
        "print(rank_4.ndim)\n",
        "print(tf.size(rank_4))"
      ],
      "metadata": {
        "colab": {
          "base_uri": "https://localhost:8080/"
        },
        "id": "AHS2zZaB_7a-",
        "outputId": "66a968cf-54b4-4e4e-a4e0-178574bb32a2"
      },
      "execution_count": 75,
      "outputs": [
        {
          "output_type": "stream",
          "name": "stdout",
          "text": [
            "(2, 3, 4, 5)\n",
            "4\n",
            "tf.Tensor(120, shape=(), dtype=int32)\n"
          ]
        }
      ]
    },
    {
      "cell_type": "markdown",
      "source": [
        "## tensor indexing"
      ],
      "metadata": {
        "id": "wWE6rsYTAfM0"
      }
    },
    {
      "cell_type": "code",
      "source": [
        "tf.random.set_seed(42)\n",
        "r = tf.random.uniform(shape=[2,3,4,5],minval=100,maxval=600,dtype=tf.int32)\n",
        "r.numpy()"
      ],
      "metadata": {
        "colab": {
          "base_uri": "https://localhost:8080/"
        },
        "id": "78j1z7J7Ah4B",
        "outputId": "ce3ee3c4-3b64-46d6-dddb-c22e70562df6"
      },
      "execution_count": 79,
      "outputs": [
        {
          "output_type": "execute_result",
          "data": {
            "text/plain": [
              "array([[[[287, 389, 361, 386, 292],\n",
              "         [384, 383, 543, 171, 591],\n",
              "         [352, 140, 351, 281, 120],\n",
              "         [108, 359, 332, 509, 299]],\n",
              "\n",
              "        [[311, 512, 597, 394, 319],\n",
              "         [201, 161, 445, 406, 115],\n",
              "         [370, 152, 101, 223, 468],\n",
              "         [465, 403, 350, 303, 388]],\n",
              "\n",
              "        [[152, 438, 301, 219, 292],\n",
              "         [454, 382, 579, 139, 436],\n",
              "         [216, 120, 120, 145, 543],\n",
              "         [477, 375, 249, 207, 506]]],\n",
              "\n",
              "\n",
              "       [[[309, 578, 582, 336, 404],\n",
              "         [319, 239, 295, 385, 418],\n",
              "         [241, 529, 187, 311, 258],\n",
              "         [483, 396, 389, 556, 591]],\n",
              "\n",
              "        [[313, 518, 497, 337, 152],\n",
              "         [547, 161, 146, 129, 106],\n",
              "         [125, 319, 580, 413, 572],\n",
              "         [385, 335, 226, 472, 519]],\n",
              "\n",
              "        [[374, 205, 333, 195, 179],\n",
              "         [377, 317, 463, 511, 589],\n",
              "         [408, 159, 468, 453, 348],\n",
              "         [394, 360, 310, 293, 252]]]], dtype=int32)"
            ]
          },
          "metadata": {},
          "execution_count": 79
        }
      ]
    },
    {
      "cell_type": "code",
      "source": [
        "# Access the element at position [1, 2, 3, 4]\n",
        "element = r[1, 2, 3, 4]\n",
        "print(\"\\nElement at position [1, 2, 3, 4]:\")\n",
        "print(element.numpy())"
      ],
      "metadata": {
        "colab": {
          "base_uri": "https://localhost:8080/"
        },
        "id": "rUY-xpzSBSLH",
        "outputId": "aea3970e-c84a-4d40-c8ac-c3de4f816062"
      },
      "execution_count": 80,
      "outputs": [
        {
          "output_type": "stream",
          "name": "stdout",
          "text": [
            "\n",
            "Element at position [1, 2, 3, 4]:\n",
            "252\n"
          ]
        }
      ]
    },
    {
      "cell_type": "code",
      "source": [
        "# Slice the tensor to get the first block\n",
        "slice_block = r[0, :, :, :]\n",
        "print(\"\\nFirst block (all rows, columns, and elements):\")\n",
        "print(slice_block.numpy())"
      ],
      "metadata": {
        "colab": {
          "base_uri": "https://localhost:8080/"
        },
        "id": "uHG08KV5BuFL",
        "outputId": "19ee4110-b3c6-495e-a17c-5c87f2fb3347"
      },
      "execution_count": 81,
      "outputs": [
        {
          "output_type": "stream",
          "name": "stdout",
          "text": [
            "\n",
            "First block (all rows, columns, and elements):\n",
            "[[[287 389 361 386 292]\n",
            "  [384 383 543 171 591]\n",
            "  [352 140 351 281 120]\n",
            "  [108 359 332 509 299]]\n",
            "\n",
            " [[311 512 597 394 319]\n",
            "  [201 161 445 406 115]\n",
            "  [370 152 101 223 468]\n",
            "  [465 403 350 303 388]]\n",
            "\n",
            " [[152 438 301 219 292]\n",
            "  [454 382 579 139 436]\n",
            "  [216 120 120 145 543]\n",
            "  [477 375 249 207 506]]]\n"
          ]
        }
      ]
    },
    {
      "cell_type": "code",
      "source": [
        "# Slice to get the first block, second matrix, all rows, and columns from index 2 to the end\n",
        "r[0,1,:,2:].numpy()"
      ],
      "metadata": {
        "colab": {
          "base_uri": "https://localhost:8080/"
        },
        "id": "fgX2aBf1B3nR",
        "outputId": "51742f05-0f51-41be-cb8f-d29f4e77002b"
      },
      "execution_count": 84,
      "outputs": [
        {
          "output_type": "execute_result",
          "data": {
            "text/plain": [
              "array([[597, 394, 319],\n",
              "       [445, 406, 115],\n",
              "       [101, 223, 468],\n",
              "       [350, 303, 388]], dtype=int32)"
            ]
          },
          "metadata": {},
          "execution_count": 84
        }
      ]
    },
    {
      "cell_type": "code",
      "source": [
        "# Slice to get the second block, third matrix, rows from index 2 to the end, and all columns\n",
        "r[1,2,2:,:].numpy()"
      ],
      "metadata": {
        "colab": {
          "base_uri": "https://localhost:8080/"
        },
        "id": "h-FEppeTCbq0",
        "outputId": "584eb27d-3f17-43e1-9be2-fa6b72c2c1e5"
      },
      "execution_count": 86,
      "outputs": [
        {
          "output_type": "execute_result",
          "data": {
            "text/plain": [
              "array([[408, 159, 468, 453, 348],\n",
              "       [394, 360, 310, 293, 252]], dtype=int32)"
            ]
          },
          "metadata": {},
          "execution_count": 86
        }
      ]
    },
    {
      "cell_type": "markdown",
      "source": [
        "## matrix manipulation"
      ],
      "metadata": {
        "id": "XTzNvZuuXTAb"
      }
    },
    {
      "cell_type": "code",
      "source": [
        "import numpy as np"
      ],
      "metadata": {
        "id": "wefBwrlSxSfr"
      },
      "execution_count": 41,
      "outputs": []
    },
    {
      "cell_type": "code",
      "source": [
        "tf.random.set_seed(42)\n",
        "s1 = tf.random.uniform(shape=[3, 8], minval=20, maxval=60, dtype=tf.int32)\n",
        "s2 = tf.random.uniform(shape=[2,3, 8], minval=20, maxval=60, dtype=tf.int32)"
      ],
      "metadata": {
        "id": "3aEmXPo0XUEq"
      },
      "execution_count": 42,
      "outputs": []
    },
    {
      "cell_type": "code",
      "source": [
        "tf_arr1 = s1.numpy() # shape 3*8\n",
        "print(tf_arr1)"
      ],
      "metadata": {
        "colab": {
          "base_uri": "https://localhost:8080/"
        },
        "id": "1awdfK04X-U_",
        "outputId": "20f9b76f-1803-437e-a4df-d078c565c7b9"
      },
      "execution_count": 43,
      "outputs": [
        {
          "output_type": "stream",
          "name": "stdout",
          "text": [
            "[[27 29 21 46 32 44 23 23]\n",
            " [31 51 32 20 51 41 20 48]\n",
            " [39 52 29 59 51 52 57 34]]\n"
          ]
        }
      ]
    },
    {
      "cell_type": "code",
      "source": [
        "tf_arr2 = tf.random.shuffle(tf_arr1).numpy() # shuffle tf_arr1\n",
        "print(tf_arr2)"
      ],
      "metadata": {
        "colab": {
          "base_uri": "https://localhost:8080/"
        },
        "id": "NMWK9P6OvNjX",
        "outputId": "b14639a0-be5e-46cb-ccd7-4a9ea677a6a8"
      },
      "execution_count": 44,
      "outputs": [
        {
          "output_type": "stream",
          "name": "stdout",
          "text": [
            "[[39 52 29 59 51 52 57 34]\n",
            " [31 51 32 20 51 41 20 48]\n",
            " [27 29 21 46 32 44 23 23]]\n"
          ]
        }
      ]
    },
    {
      "cell_type": "code",
      "source": [
        "print(tf_arr2.flatten()) # tf_arr2 flatten"
      ],
      "metadata": {
        "colab": {
          "base_uri": "https://localhost:8080/"
        },
        "id": "0_5DoQpdxuvm",
        "outputId": "9a9e6e23-fb4d-4fd4-e3ad-51279a8ad7ac"
      },
      "execution_count": 45,
      "outputs": [
        {
          "output_type": "stream",
          "name": "stdout",
          "text": [
            "[39 52 29 59 51 52 57 34 31 51 32 20 51 41 20 48 27 29 21 46 32 44 23 23]\n"
          ]
        }
      ]
    },
    {
      "cell_type": "code",
      "source": [
        "      # STACK USING NUMPY\n",
        "\n",
        "numpy_arr1 = np.array(tf_arr1)\n",
        "numpy_arr2 = np.array(tf_arr2)\n",
        "\n",
        "print(\"numpy_arr1\")\n",
        "print(numpy_arr1)\n",
        "print(\"\\nnumpy_arr2\")\n",
        "print(numpy_arr2)\n",
        "\n",
        "    # Horizontal stacking\n",
        "hstack_arr = np.hstack((numpy_arr1, numpy_arr2))\n",
        "print(\"\\nHorizontal stacking\")\n",
        "print(hstack_arr)\n",
        "\n",
        "    # Vertical stacking\n",
        "vstack_arr = np.vstack((numpy_arr1, numpy_arr2))\n",
        "print(\"\\nVertical stacking\")\n",
        "print(vstack_arr)\n"
      ],
      "metadata": {
        "colab": {
          "base_uri": "https://localhost:8080/"
        },
        "id": "uvewKoMGwLTD",
        "outputId": "3dc6a0a9-3ec2-42e1-97a0-42b044101b8c"
      },
      "execution_count": 46,
      "outputs": [
        {
          "output_type": "stream",
          "name": "stdout",
          "text": [
            "numpy_arr1\n",
            "[[27 29 21 46 32 44 23 23]\n",
            " [31 51 32 20 51 41 20 48]\n",
            " [39 52 29 59 51 52 57 34]]\n",
            "\n",
            "numpy_arr2\n",
            "[[39 52 29 59 51 52 57 34]\n",
            " [31 51 32 20 51 41 20 48]\n",
            " [27 29 21 46 32 44 23 23]]\n",
            "\n",
            "Horizontal stacking\n",
            "[[27 29 21 46 32 44 23 23 39 52 29 59 51 52 57 34]\n",
            " [31 51 32 20 51 41 20 48 31 51 32 20 51 41 20 48]\n",
            " [39 52 29 59 51 52 57 34 27 29 21 46 32 44 23 23]]\n",
            "\n",
            "Vertical stacking\n",
            "[[27 29 21 46 32 44 23 23]\n",
            " [31 51 32 20 51 41 20 48]\n",
            " [39 52 29 59 51 52 57 34]\n",
            " [39 52 29 59 51 52 57 34]\n",
            " [31 51 32 20 51 41 20 48]\n",
            " [27 29 21 46 32 44 23 23]]\n"
          ]
        }
      ]
    },
    {
      "cell_type": "code",
      "source": [
        "tf_arr1_reshape1 = tf.reshape(s1, [4, 6])\n",
        "print(tf_arr1_reshape1.numpy()) # [ 4 * 6 ]"
      ],
      "metadata": {
        "colab": {
          "base_uri": "https://localhost:8080/"
        },
        "id": "2mwOerUGYF8n",
        "outputId": "60ed0759-7118-48ac-c586-bea065a49a26"
      },
      "execution_count": 47,
      "outputs": [
        {
          "output_type": "stream",
          "name": "stdout",
          "text": [
            "[[27 29 21 46 32 44]\n",
            " [23 23 31 51 32 20]\n",
            " [51 41 20 48 39 52]\n",
            " [29 59 51 52 57 34]]\n"
          ]
        }
      ]
    },
    {
      "cell_type": "code",
      "source": [
        "tf_arr2 = s2.numpy()\n",
        "print(tf_arr2)"
      ],
      "metadata": {
        "colab": {
          "base_uri": "https://localhost:8080/"
        },
        "id": "W5DGQbwczc-6",
        "outputId": "afff7913-a83a-4343-ec28-5055066ee8a9"
      },
      "execution_count": 48,
      "outputs": [
        {
          "output_type": "stream",
          "name": "stdout",
          "text": [
            "[[[38 43 39 54 32 33 24 42]\n",
            "  [26 24 41 23 26 20 49 49]\n",
            "  [20 41 24 57 20 58 21 36]]\n",
            "\n",
            " [[22 34 49 59 44 48 22 21]\n",
            "  [57 53 47 35 27 36 51 44]\n",
            "  [23 55 35 29 44 58 33 51]]]\n"
          ]
        }
      ]
    },
    {
      "cell_type": "code",
      "source": [
        "tf_arr2_reshape1 = tf.reshape(s2, [6, 8])\n",
        "print(tf_arr2_reshape1 .numpy())"
      ],
      "metadata": {
        "colab": {
          "base_uri": "https://localhost:8080/"
        },
        "id": "UHiKC9Xj0JUn",
        "outputId": "c37b9d06-7b22-415f-da91-0cc9eede9d90"
      },
      "execution_count": 49,
      "outputs": [
        {
          "output_type": "stream",
          "name": "stdout",
          "text": [
            "[[38 43 39 54 32 33 24 42]\n",
            " [26 24 41 23 26 20 49 49]\n",
            " [20 41 24 57 20 58 21 36]\n",
            " [22 34 49 59 44 48 22 21]\n",
            " [57 53 47 35 27 36 51 44]\n",
            " [23 55 35 29 44 58 33 51]]\n"
          ]
        }
      ]
    },
    {
      "cell_type": "code",
      "source": [
        "    # transpose\n",
        "er1 = tf.transpose(tf_arr2_reshape1).numpy()\n",
        "print(er1)"
      ],
      "metadata": {
        "colab": {
          "base_uri": "https://localhost:8080/"
        },
        "id": "UlkK7wij0she",
        "outputId": "c93ffc25-1a1a-4fd4-b921-fc18efae1210"
      },
      "execution_count": 51,
      "outputs": [
        {
          "output_type": "stream",
          "name": "stdout",
          "text": [
            "[[38 26 20 22 57 23]\n",
            " [43 24 41 34 53 55]\n",
            " [39 41 24 49 47 35]\n",
            " [54 23 57 59 35 29]\n",
            " [32 26 20 44 27 44]\n",
            " [33 20 58 48 36 58]\n",
            " [24 49 21 22 51 33]\n",
            " [42 49 36 21 44 51]]\n"
          ]
        }
      ]
    },
    {
      "cell_type": "code",
      "source": [
        "           # STACK USING TENSORFLOW\n",
        "\n",
        "# Create two 2x3 tensors\n",
        "tensor1 = tf.random.uniform(shape=[2, 3], minval=10, maxval=50, dtype=tf.int32)\n",
        "tensor2 = tf.random.uniform(shape=[2, 3], minval=10, maxval=50, dtype=tf.int32)\n",
        "\n",
        "# Print the original tensors\n",
        "print(\"Tensor 1:\")\n",
        "print(tensor1.numpy())\n",
        "\n",
        "print(\"\\nTensor 2:\")\n",
        "print(tensor2.numpy())\n",
        "\n",
        "# Horizontal stacking using concat (along axis 1)\n",
        "hstack_tensor = tf.concat([tensor1, tensor2], axis=1)\n",
        "\n",
        "# Vertical stacking using concat (along axis 0)\n",
        "vstack_tensor = tf.concat([tensor1, tensor2], axis=0)\n",
        "\n",
        "# Print the stacked tensors\n",
        "print(\"\\nHorizontal Stack (hstack) using concat:\")\n",
        "print(hstack_tensor.numpy())\n",
        "\n",
        "print(\"\\nVertical Stack (vstack) using concat:\")\n",
        "print(vstack_tensor.numpy())\n"
      ],
      "metadata": {
        "colab": {
          "base_uri": "https://localhost:8080/"
        },
        "id": "P0THu5Ss1vab",
        "outputId": "7becbe0d-2f97-4d8e-d680-4f3504f75e8e"
      },
      "execution_count": 39,
      "outputs": [
        {
          "output_type": "stream",
          "name": "stdout",
          "text": [
            "Tensor 1:\n",
            "[[26 27 24]\n",
            " [48 10 42]]\n",
            "\n",
            "Tensor 2:\n",
            "[[13 11 17]\n",
            " [44 41 47]]\n",
            "\n",
            "Horizontal Stack (hstack) using concat:\n",
            "[[26 27 24 13 11 17]\n",
            " [48 10 42 44 41 47]]\n",
            "\n",
            "Vertical Stack (vstack) using concat:\n",
            "[[26 27 24]\n",
            " [48 10 42]\n",
            " [13 11 17]\n",
            " [44 41 47]]\n"
          ]
        }
      ]
    },
    {
      "cell_type": "markdown",
      "source": [
        "## Squeezing a tensor"
      ],
      "metadata": {
        "id": "KxJCaNX4767B"
      }
    },
    {
      "cell_type": "code",
      "source": [
        "sq1 = tf.random.uniform(shape=[1,1, 4, 5], minval=20, maxval=60, dtype=tf.int32).numpy()\n",
        "\n",
        "print(\"Original Tensor (sq1):\")\n",
        "print(sq1)\n",
        "print(\"\\nShape:\", sq1.shape)"
      ],
      "metadata": {
        "colab": {
          "base_uri": "https://localhost:8080/"
        },
        "id": "PNSuOdNp8AEY",
        "outputId": "251b157f-8281-4ea1-f730-19b7d1c15e97"
      },
      "execution_count": 64,
      "outputs": [
        {
          "output_type": "stream",
          "name": "stdout",
          "text": [
            "Original Tensor (sq1):\n",
            "[[[[23 21 27 54 51]\n",
            "   [57 49 27 40 37]\n",
            "   [59 21 23 56 22]\n",
            "   [29 27 35 20 44]]]]\n",
            "\n",
            "Shape: (1, 1, 4, 5)\n"
          ]
        }
      ]
    },
    {
      "cell_type": "code",
      "source": [
        "sq1_squeezed = tf.squeeze(sq1)\n",
        "print(\"Squeezed Tensor:\")\n",
        "print(sq1_squeezed)\n",
        "print(\"Shape after squeeze:\", sq1_squeezed.shape)"
      ],
      "metadata": {
        "colab": {
          "base_uri": "https://localhost:8080/"
        },
        "id": "koR0S_Ta9BZo",
        "outputId": "4ce2e306-f03b-4c73-da24-496916c71bce"
      },
      "execution_count": 65,
      "outputs": [
        {
          "output_type": "stream",
          "name": "stdout",
          "text": [
            "Squeezed Tensor:\n",
            "tf.Tensor(\n",
            "[[23 21 27 54 51]\n",
            " [57 49 27 40 37]\n",
            " [59 21 23 56 22]\n",
            " [29 27 35 20 44]], shape=(4, 5), dtype=int32)\n",
            "Shape after squeeze: (4, 5)\n"
          ]
        }
      ]
    },
    {
      "cell_type": "markdown",
      "source": [
        "## one-hot encoding tensor"
      ],
      "metadata": {
        "id": "ueLuOONs-7KR"
      }
    },
    {
      "cell_type": "code",
      "source": [
        "colors = [0,1,2,3]  # red , green , blue , purple\n",
        "tf.one_hot(colors,depth=4)"
      ],
      "metadata": {
        "colab": {
          "base_uri": "https://localhost:8080/"
        },
        "id": "90U06xSz-96r",
        "outputId": "9973ba5f-d2d5-4ac4-9830-e305e0668e8d"
      },
      "execution_count": 67,
      "outputs": [
        {
          "output_type": "execute_result",
          "data": {
            "text/plain": [
              "<tf.Tensor: shape=(4, 4), dtype=float32, numpy=\n",
              "array([[1., 0., 0., 0.],\n",
              "       [0., 1., 0., 0.],\n",
              "       [0., 0., 1., 0.],\n",
              "       [0., 0., 0., 1.]], dtype=float32)>"
            ]
          },
          "metadata": {},
          "execution_count": 67
        }
      ]
    }
  ]
}