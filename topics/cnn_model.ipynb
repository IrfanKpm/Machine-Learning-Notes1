{
  "nbformat": 4,
  "nbformat_minor": 0,
  "metadata": {
    "colab": {
      "provenance": [],
      "authorship_tag": "ABX9TyNBzWf+MSNqIVpTn7tJIbXd",
      "include_colab_link": true
    },
    "kernelspec": {
      "name": "python3",
      "display_name": "Python 3"
    },
    "language_info": {
      "name": "python"
    }
  },
  "cells": [
    {
      "cell_type": "markdown",
      "metadata": {
        "id": "view-in-github",
        "colab_type": "text"
      },
      "source": [
        "<a href=\"https://colab.research.google.com/github/IrfanKpm/Machine-Learning-Notes1/blob/main/topics/cnn_model.ipynb\" target=\"_parent\"><img src=\"https://colab.research.google.com/assets/colab-badge.svg\" alt=\"Open In Colab\"/></a>"
      ]
    },
    {
      "cell_type": "markdown",
      "source": [
        "## Convolutional Neural Networks (CNNs)\n",
        "\n",
        "### Overview\n",
        "\n",
        "Convolutional Neural Networks (CNNs) are a class of deep learning models specifically designed for processing and analyzing image data. They are particularly effective for tasks like image classification, object detection, and segmentation due to their ability to automatically and adaptively learn spatial hierarchies of features.\n",
        "\n",
        "### Key Components\n",
        "\n",
        "1. **Convolutional Layers**:\n",
        "   - **Purpose**: Extract features from the input image using filters (kernels) that slide over the image.\n",
        "   - **Operation**: Each filter produces a feature map that highlights specific patterns such as edges, textures, or shapes.\n",
        "   - **Kernel Size**: Defines the dimensions of the filter (e.g., 3x3, 5x5).\n",
        "\n",
        "2. **Activation Functions**:\n",
        "   - **Purpose**: Introduce non-linearity into the model, allowing it to learn complex patterns.\n",
        "   - **Common Functions**: ReLU (Rectified Linear Unit) is the most commonly used activation function in CNNs. It replaces negative values with zero and retains positive values.\n",
        "\n",
        "3. **Pooling Layers**:\n",
        "   - **Purpose**: Reduce the spatial dimensions (height and width) of the feature maps while retaining important features.\n",
        "   - **Types**:\n",
        "     - **Max Pooling**: Takes the maximum value from each window of the feature map.\n",
        "     - **Average Pooling**: Computes the average value from each window of the feature map.\n",
        "   - **Pooling Size**: Common sizes are 2x2 or 3x3.\n",
        "\n",
        "4. **Flattening**:\n",
        "   - **Purpose**: Convert the 2D feature maps into a 1D vector.\n",
        "   - **Usage**: This step prepares the data to be fed into fully connected (dense) layers.\n",
        "\n",
        "5. **Fully Connected Layers (Dense Layers)**:\n",
        "   - **Purpose**: Perform classification or regression based on the features extracted by the convolutional and pooling layers.\n",
        "   - **Operation**: Each neuron in a fully connected layer is connected to every neuron in the previous layer.\n",
        "\n",
        "6. **Output Layer**:\n",
        "   - **Purpose**: Produce the final predictions of the network.\n",
        "   - **Activation Function**: Softmax is commonly used for classification tasks to output probabilities for each class.\n",
        "\n",
        "### How CNNs Work\n",
        "\n",
        "1. **Feature Extraction**:\n",
        "   - CNNs start with convolutional layers that apply multiple filters to the input image, extracting various features from different regions.\n",
        "\n",
        "2. **Feature Hierarchy**:\n",
        "   - As the network depth increases, higher-level convolutional layers capture more complex and abstract features from the input data.\n",
        "\n",
        "3. **Dimensionality Reduction**:\n",
        "   - Pooling layers reduce the size of feature maps, which helps in decreasing the computational load and preventing overfitting.\n",
        "\n",
        "4. **Classification**:\n",
        "   - The flattened feature maps are fed into fully connected layers, which combine the features to make final predictions.\n",
        "\n",
        "### Applications\n",
        "\n",
        "- **Image Classification**: Categorizing images into predefined classes (e.g., recognizing objects in photos).\n",
        "- **Object Detection**: Identifying and locating objects within an image.\n",
        "- **Image Segmentation**: Dividing an image into segments or regions based on certain features.\n",
        "\n",
        "### Summary\n",
        "\n",
        "CNNs are powerful models for image-related tasks due to their ability to automatically learn spatial hierarchies of features. By using convolutional and pooling layers, they efficiently process images and reduce dimensionality, enabling accurate and robust predictions.\n",
        "\n"
      ],
      "metadata": {
        "id": "G6sbfQQKFiTr"
      }
    },
    {
      "cell_type": "code",
      "execution_count": null,
      "metadata": {
        "id": "bC4kc3Q3DtFr"
      },
      "outputs": [],
      "source": [
        "from PIL import Image\n",
        "import numpy as np\n",
        "import tensorflow as tf\n",
        "from tensorflow import keras\n",
        "from keras import layers\n",
        "import matplotlib.pyplot as plt"
      ]
    },
    {
      "cell_type": "code",
      "source": [
        "def plot_img(img):\n",
        "  plt.figure(figsize=(3,3))\n",
        "  plt.imshow(img)\n",
        "  plt.show()"
      ],
      "metadata": {
        "id": "0Tzr3Mq8D6Gp"
      },
      "execution_count": null,
      "outputs": []
    },
    {
      "cell_type": "markdown",
      "source": [
        "## Understanding `Conv2D` in TensorFlow\n",
        "\n",
        "### Overview\n",
        "\n",
        "The `Conv2D` layer in TensorFlow's Keras API is used to apply 2D convolutional operations to input data. Convolutional layers are fundamental components in Convolutional Neural Networks (CNNs) and are primarily used for feature extraction from image data.\n",
        "\n",
        "### Key Concepts\n",
        "\n",
        "- **Kernel (Filter)**: A small matrix used to slide over the input image to produce a feature map. Each kernel detects specific features like edges, textures, or patterns.\n",
        "- **Stride**: The number of pixels by which the kernel moves across the input image. A stride of 1 means the kernel moves one pixel at a time.\n",
        "- **Padding**: The process of adding extra pixels around the border of the input image to control the spatial dimensions of the output feature map. Padding can be 'valid' (no padding) or 'same' (padding added to keep output dimensions the same as input).\n",
        "- **Activation Function**: A function applied to each element of the feature map to introduce non-linearity. Common activation functions include ReLU (Rectified Linear Unit).\n",
        "\n",
        "### Syntax\n",
        "\n",
        "```python\n",
        "tf.keras.layers.Conv2D(filters, kernel_size, strides=(1, 1), padding='valid', activation=None, input_shape=None)\n"
      ],
      "metadata": {
        "id": "45nsb5j1Flkx"
      }
    },
    {
      "cell_type": "code",
      "source": [
        "# Set the seed for reproducibility\n",
        "tf.random.set_seed(42)\n",
        "# Generate a random tensor with shape (4, 6, 6, 128) with integer values\n",
        "x_int = tf.random.uniform((4, 6, 6, 128), minval=100, maxval=255, dtype=tf.int32)\n",
        "# Cast the tensor to float32\n",
        "x = tf.cast(x_int, dtype=tf.float32)\n",
        "# Define a Conv2D layer\n",
        "conv_layer = layers.Conv2D(filters=3, kernel_size=(3, 3), activation='relu', padding='valid')\n",
        "# Apply the convolutional layer to the input tensor\n",
        "y = conv_layer(x)"
      ],
      "metadata": {
        "id": "E_Jtqik1MYiP"
      },
      "execution_count": null,
      "outputs": []
    },
    {
      "cell_type": "code",
      "source": [
        "x"
      ],
      "metadata": {
        "colab": {
          "base_uri": "https://localhost:8080/"
        },
        "id": "L2wkgKFuGgmN",
        "outputId": "2fd4b7fe-a2e5-4c8e-e6e7-50e083cc0e8d"
      },
      "execution_count": null,
      "outputs": [
        {
          "output_type": "execute_result",
          "data": {
            "text/plain": [
              "<tf.Tensor: shape=(4, 6, 6, 128), dtype=float32, numpy=\n",
              "array([[[[222., 169., 196., ..., 192., 115., 175.],\n",
              "         [214., 113., 144., ..., 172., 201., 205.],\n",
              "         [200., 221., 163., ..., 126., 117., 173.],\n",
              "         [249., 220., 139., ..., 219., 104., 133.],\n",
              "         [253., 156., 251., ..., 201., 195., 102.],\n",
              "         [212., 174., 214., ..., 125., 235., 153.]],\n",
              "\n",
              "        [[148., 206., 150., ..., 164., 229., 253.],\n",
              "         [104., 129., 131., ..., 185., 241., 253.],\n",
              "         [243., 192., 116., ..., 224., 180., 198.],\n",
              "         [244., 219., 183., ..., 160., 210., 203.],\n",
              "         [203., 208., 235., ..., 223., 219., 173.],\n",
              "         [192., 100., 187., ..., 236., 117., 138.]],\n",
              "\n",
              "        [[228., 251., 171., ..., 154., 151., 126.],\n",
              "         [198., 241., 128., ..., 202., 185., 241.],\n",
              "         [197., 149., 146., ..., 180., 122., 162.],\n",
              "         [174., 245., 138., ..., 250., 114., 179.],\n",
              "         [201., 250., 238., ..., 142., 200., 207.],\n",
              "         [254., 203., 131., ..., 217., 164., 141.]],\n",
              "\n",
              "        [[204., 105., 120., ..., 250., 165., 222.],\n",
              "         [134., 109., 245., ..., 109., 119., 109.],\n",
              "         [225., 169., 118., ..., 230., 182., 164.],\n",
              "         [193., 160., 140., ..., 250., 225., 144.],\n",
              "         [157., 197., 218., ..., 186., 185., 220.],\n",
              "         [160., 150., 127., ..., 126., 176., 103.]],\n",
              "\n",
              "        [[243., 124., 161., ..., 111., 251., 226.],\n",
              "         [161., 165., 116., ..., 141., 153., 194.],\n",
              "         [187., 175., 138., ..., 232., 196., 163.],\n",
              "         [244., 238., 113., ..., 157., 131., 185.],\n",
              "         [156., 224., 200., ..., 219., 240., 102.],\n",
              "         [139., 237., 210., ..., 127., 191., 133.]],\n",
              "\n",
              "        [[202., 133., 198., ..., 159., 107., 177.],\n",
              "         [128., 191., 235., ..., 253., 219., 134.],\n",
              "         [189., 182., 223., ..., 200., 165., 190.],\n",
              "         [218., 120., 173., ..., 147., 123., 168.],\n",
              "         [167., 182., 144., ..., 183., 252., 110.],\n",
              "         [234., 125., 136., ..., 145., 252., 199.]]],\n",
              "\n",
              "\n",
              "       [[[135., 249., 231., ..., 200., 240., 147.],\n",
              "         [211., 152., 156., ..., 119., 180., 123.],\n",
              "         [171., 188., 121., ..., 243., 117., 227.],\n",
              "         [226., 224., 178., ..., 211., 110., 117.],\n",
              "         [239., 165., 159., ..., 202., 175., 117.],\n",
              "         [240., 104., 117., ..., 201., 152., 127.]],\n",
              "\n",
              "        [[175., 167., 207., ..., 128., 123., 182.],\n",
              "         [198., 105., 253., ..., 158., 159., 244.],\n",
              "         [167., 248., 144., ..., 254., 216., 163.],\n",
              "         [164., 228., 241., ..., 112., 250., 179.],\n",
              "         [115., 240., 224., ..., 144., 142., 125.],\n",
              "         [138., 182., 146., ..., 230., 188., 219.]],\n",
              "\n",
              "        [[213., 224., 126., ..., 167., 114., 198.],\n",
              "         [236., 157., 181., ..., 172., 200., 184.],\n",
              "         [121., 207., 137., ..., 235., 121., 188.],\n",
              "         [194., 175., 100., ..., 141., 152., 218.],\n",
              "         [156., 187., 166., ..., 246., 127., 154.],\n",
              "         [239., 227., 137., ..., 167., 170., 105.]],\n",
              "\n",
              "        [[120., 183., 178., ..., 129., 242., 215.],\n",
              "         [228., 122., 131., ..., 204., 191., 116.],\n",
              "         [134., 232., 166., ..., 243., 108., 211.],\n",
              "         [117., 210., 134., ..., 103., 174., 182.],\n",
              "         [125., 157., 150., ..., 216., 139., 144.],\n",
              "         [165., 225., 105., ..., 238., 212., 228.]],\n",
              "\n",
              "        [[112., 156., 143., ..., 232., 102., 179.],\n",
              "         [185., 206., 221., ..., 140., 173., 169.],\n",
              "         [137., 212., 141., ..., 131., 244., 243.],\n",
              "         [179., 143., 148., ..., 238., 173., 213.],\n",
              "         [225., 128., 230., ..., 215., 233., 189.],\n",
              "         [207., 111., 187., ..., 190., 245., 159.]],\n",
              "\n",
              "        [[168., 119., 241., ..., 195., 148., 183.],\n",
              "         [249., 221., 117., ..., 250., 206., 218.],\n",
              "         [216., 187., 216., ..., 151., 141., 159.],\n",
              "         [235., 112., 181., ..., 111., 214., 175.],\n",
              "         [188., 187., 126., ..., 209., 130., 167.],\n",
              "         [117., 207., 240., ..., 237., 176., 117.]]],\n",
              "\n",
              "\n",
              "       [[[224., 240., 167., ..., 113., 200., 212.],\n",
              "         [188., 205., 147., ..., 211., 175., 221.],\n",
              "         [153., 247., 253., ..., 182., 188., 143.],\n",
              "         [183., 147., 120., ..., 215., 248., 126.],\n",
              "         [254., 158., 224., ..., 128., 117., 225.],\n",
              "         [226., 166., 245., ..., 168., 105., 107.]],\n",
              "\n",
              "        [[174., 186., 189., ..., 108., 111., 115.],\n",
              "         [167., 178., 182., ..., 132., 228., 165.],\n",
              "         [245., 196., 156., ..., 161., 173., 217.],\n",
              "         [229., 198., 150., ..., 108., 137., 131.],\n",
              "         [207., 216., 235., ..., 194., 210., 148.],\n",
              "         [189., 175., 167., ..., 200., 159., 136.]],\n",
              "\n",
              "        [[189., 146., 210., ..., 254., 153., 120.],\n",
              "         [162., 163., 128., ..., 237., 135., 102.],\n",
              "         [233., 108., 120., ..., 107., 209., 191.],\n",
              "         [193., 173., 243., ..., 176., 186., 177.],\n",
              "         [185., 151., 118., ..., 134., 197., 191.],\n",
              "         [105., 253., 149., ..., 251., 161., 227.]],\n",
              "\n",
              "        [[176., 111., 173., ..., 242., 238., 172.],\n",
              "         [247., 199., 121., ..., 247., 140., 137.],\n",
              "         [206., 156., 237., ..., 178., 152., 200.],\n",
              "         [110., 159., 252., ..., 218., 239., 194.],\n",
              "         [235., 109., 218., ..., 147., 195., 121.],\n",
              "         [130., 119., 232., ..., 175., 170., 236.]],\n",
              "\n",
              "        [[243., 111., 167., ..., 191., 125., 152.],\n",
              "         [131., 235., 136., ..., 198., 169., 146.],\n",
              "         [101., 167., 230., ..., 242., 194., 121.],\n",
              "         [108., 173., 120., ..., 135., 173., 208.],\n",
              "         [150., 176., 163., ..., 164., 167., 145.],\n",
              "         [225., 160., 204., ..., 135., 224., 189.]],\n",
              "\n",
              "        [[156., 202., 116., ..., 178., 237., 220.],\n",
              "         [198., 168., 220., ..., 222., 174., 218.],\n",
              "         [210., 232., 124., ..., 120., 188., 130.],\n",
              "         [222., 131., 211., ..., 245., 185., 129.],\n",
              "         [248., 162., 115., ..., 248., 226., 233.],\n",
              "         [115., 174., 112., ..., 127., 158., 254.]]],\n",
              "\n",
              "\n",
              "       [[[141., 164., 181., ..., 200., 113., 222.],\n",
              "         [128., 201., 221., ..., 224., 159., 161.],\n",
              "         [116., 119., 114., ..., 246., 141., 247.],\n",
              "         [246., 143., 140., ..., 174., 227., 117.],\n",
              "         [111., 195., 156., ..., 150., 140., 240.],\n",
              "         [232., 103., 240., ..., 244., 160., 176.]],\n",
              "\n",
              "        [[114., 116., 133., ..., 233., 202., 168.],\n",
              "         [244., 204., 183., ..., 230., 152., 144.],\n",
              "         [223., 151., 127., ..., 125., 249., 116.],\n",
              "         [118., 237., 112., ..., 109., 247., 141.],\n",
              "         [146., 253., 254., ..., 248., 223., 254.],\n",
              "         [189., 244., 165., ..., 224., 233., 211.]],\n",
              "\n",
              "        [[150., 213., 121., ..., 235., 144., 110.],\n",
              "         [122., 232., 226., ..., 235., 153., 190.],\n",
              "         [108., 134., 240., ..., 121., 249., 102.],\n",
              "         [189., 114., 178., ..., 213., 210., 149.],\n",
              "         [159., 213., 218., ..., 198., 166., 112.],\n",
              "         [246., 217., 178., ..., 102., 240., 215.]],\n",
              "\n",
              "        [[156., 101., 182., ..., 130., 201., 114.],\n",
              "         [200., 245., 165., ..., 117., 137., 111.],\n",
              "         [200., 114., 174., ..., 104., 173., 125.],\n",
              "         [143., 199., 213., ..., 100., 167., 191.],\n",
              "         [170., 245., 214., ..., 129., 238., 192.],\n",
              "         [162., 131., 225., ..., 235., 227., 101.]],\n",
              "\n",
              "        [[231., 172., 146., ..., 180., 174., 217.],\n",
              "         [202., 200., 172., ..., 223., 169., 206.],\n",
              "         [170., 192., 182., ..., 159., 188., 204.],\n",
              "         [191., 185., 140., ..., 244., 175., 213.],\n",
              "         [145., 165., 254., ..., 201., 109., 149.],\n",
              "         [183., 222., 143., ..., 204., 175., 214.]],\n",
              "\n",
              "        [[221., 115., 124., ..., 232., 188., 107.],\n",
              "         [184., 132., 158., ..., 222., 184., 202.],\n",
              "         [213., 217., 211., ..., 111., 145., 124.],\n",
              "         [118., 152., 249., ..., 121., 181., 134.],\n",
              "         [186., 190., 210., ..., 184., 203., 220.],\n",
              "         [223., 224., 150., ..., 121., 188., 190.]]]], dtype=float32)>"
            ]
          },
          "metadata": {},
          "execution_count": 84
        }
      ]
    },
    {
      "cell_type": "code",
      "source": [
        "y"
      ],
      "metadata": {
        "colab": {
          "base_uri": "https://localhost:8080/"
        },
        "id": "axLwyY3xNEQm",
        "outputId": "057afda3-f758-44cb-d144-1a5fca530889"
      },
      "execution_count": null,
      "outputs": [
        {
          "output_type": "execute_result",
          "data": {
            "text/plain": [
              "<tf.Tensor: shape=(4, 4, 4, 3), dtype=float32, numpy=\n",
              "array([[[[  0.      , 113.12576 , 150.97942 ],\n",
              "         [  0.      ,   9.653439, 172.39929 ],\n",
              "         [  0.      ,  17.841572, 400.65973 ],\n",
              "         [  0.      ,   0.      , 253.7616  ]],\n",
              "\n",
              "        [[  0.      , 116.28502 , 211.20547 ],\n",
              "         [  0.      , 110.88809 , 214.18555 ],\n",
              "         [  0.      , 174.45866 , 293.692   ],\n",
              "         [  0.      , 145.87065 , 284.35193 ]],\n",
              "\n",
              "        [[  0.      ,  50.24769 , 290.54474 ],\n",
              "         [  0.      , 184.57481 , 208.56923 ],\n",
              "         [  0.      ,  53.51848 , 362.59326 ],\n",
              "         [  0.      , 122.79857 , 188.56139 ]],\n",
              "\n",
              "        [[  0.      , 163.024   , 148.20406 ],\n",
              "         [  0.      , 227.07117 , 215.54295 ],\n",
              "         [  0.      , 125.941795, 139.61604 ],\n",
              "         [  0.      ,  16.592146, 239.76776 ]]],\n",
              "\n",
              "\n",
              "       [[[  0.      ,  24.045738, 241.94666 ],\n",
              "         [  0.      ,  73.02252 , 322.18124 ],\n",
              "         [  0.      , 115.32986 , 290.56653 ],\n",
              "         [  0.      , 111.931595, 200.15582 ]],\n",
              "\n",
              "        [[  0.      ,  74.013695, 264.71793 ],\n",
              "         [  0.      , 123.61105 , 259.10522 ],\n",
              "         [  0.      , 189.60938 , 200.06195 ],\n",
              "         [  0.      , 154.82521 , 241.25891 ]],\n",
              "\n",
              "        [[  0.      , 145.4739  , 300.68976 ],\n",
              "         [  0.      , 136.16682 , 219.18875 ],\n",
              "         [  0.      ,  80.92521 , 357.75323 ],\n",
              "         [  0.      ,  80.62305 , 249.25604 ]],\n",
              "\n",
              "        [[  0.      , 161.68654 , 195.02264 ],\n",
              "         [  0.      , 162.46371 , 298.38452 ],\n",
              "         [  0.      ,   0.      , 276.46982 ],\n",
              "         [  0.      , 104.30331 , 190.09564 ]]],\n",
              "\n",
              "\n",
              "       [[[  0.      , 193.04967 , 156.2992  ],\n",
              "         [  0.      ,  93.28462 , 327.8975  ],\n",
              "         [  0.      ,  90.7912  , 283.02325 ],\n",
              "         [  0.      ,  96.5325  , 248.03331 ]],\n",
              "\n",
              "        [[  0.      , 120.84261 , 252.49524 ],\n",
              "         [  0.      ,  83.45049 , 153.21123 ],\n",
              "         [  0.      , 155.02745 , 223.14023 ],\n",
              "         [  0.      ,   0.      , 295.5711  ]],\n",
              "\n",
              "        [[  0.      ,  98.67978 , 257.19653 ],\n",
              "         [  0.      , 176.02321 , 132.65245 ],\n",
              "         [  0.      , 137.97916 , 316.92728 ],\n",
              "         [  0.      ,  36.206818, 121.41194 ]],\n",
              "\n",
              "        [[  0.      , 122.566246, 185.9054  ],\n",
              "         [  0.      , 162.11026 , 200.27078 ],\n",
              "         [  0.      ,  92.48325 , 234.56598 ],\n",
              "         [  0.      , 153.53572 , 186.0751  ]]],\n",
              "\n",
              "\n",
              "       [[[  0.      , 115.469246, 247.12216 ],\n",
              "         [  0.      , 221.55658 , 218.01114 ],\n",
              "         [  0.      , 199.48361 , 170.12827 ],\n",
              "         [  0.      , 136.99292 , 299.3944  ]],\n",
              "\n",
              "        [[  0.      ,  53.319153, 222.86389 ],\n",
              "         [  0.      ,  72.70347 , 299.34845 ],\n",
              "         [  0.      , 125.79673 , 172.67592 ],\n",
              "         [  0.      ,   0.      , 288.19733 ]],\n",
              "\n",
              "        [[  0.      , 125.24482 , 266.62738 ],\n",
              "         [  0.      ,  10.254356, 212.17288 ],\n",
              "         [  0.      , 179.78526 , 259.02747 ],\n",
              "         [  0.      , 103.284256, 278.51102 ]],\n",
              "\n",
              "        [[  0.      , 148.81573 , 309.39215 ],\n",
              "         [  0.      ,  58.67241 , 345.78406 ],\n",
              "         [  0.      ,   0.      , 205.80704 ],\n",
              "         [  0.      , 177.42224 , 289.3425  ]]]], dtype=float32)>"
            ]
          },
          "metadata": {},
          "execution_count": 85
        }
      ]
    },
    {
      "cell_type": "code",
      "source": [
        "print(\"Input tensor shape:\", x.shape)\n",
        "print(\"Output tensor shape:\", y.shape)"
      ],
      "metadata": {
        "colab": {
          "base_uri": "https://localhost:8080/"
        },
        "id": "eu-Hpza2HJ_B",
        "outputId": "0bee00c1-0131-40da-a9ed-399cab34af81"
      },
      "execution_count": null,
      "outputs": [
        {
          "output_type": "stream",
          "name": "stdout",
          "text": [
            "Input tensor shape: (4, 6, 6, 128)\n",
            "Output tensor shape: (4, 4, 4, 3)\n"
          ]
        }
      ]
    },
    {
      "cell_type": "code",
      "source": [
        "x_np = x.numpy()[0, :, :, 0]  # Take the first image and first channel\n",
        "y_np = y.numpy()[0, :, :, :]\n",
        "\n",
        "x_np.shape , y_np.shape"
      ],
      "metadata": {
        "colab": {
          "base_uri": "https://localhost:8080/"
        },
        "id": "6uj-N2OVQyk8",
        "outputId": "d0f4f4a3-c277-4cf5-fa2e-cf80120d80f0"
      },
      "execution_count": null,
      "outputs": [
        {
          "output_type": "execute_result",
          "data": {
            "text/plain": [
              "((6, 6), (4, 4, 3))"
            ]
          },
          "metadata": {},
          "execution_count": 87
        }
      ]
    },
    {
      "cell_type": "code",
      "source": [
        "# Plotting\n",
        "fig, axes = plt.subplots(1, 4, figsize=(15, 5))\n",
        "\n",
        "# Plot input tensor\n",
        "axes[0].imshow(x_np, cmap='gray')\n",
        "axes[0].set_title('Input Tensor (x)')\n",
        "axes[0].axis('off')\n",
        "\n",
        "# Plot each channel of the output tensor\n",
        "for i in range(y_np.shape[-1]):\n",
        "    axes[i + 1].imshow(y_np[:, :, i], cmap='viridis')\n",
        "    axes[i + 1].set_title(f'Feature Map {i+1}')\n",
        "    axes[i + 1].axis('off')\n",
        "\n",
        "plt.tight_layout()\n",
        "plt.show()"
      ],
      "metadata": {
        "colab": {
          "base_uri": "https://localhost:8080/",
          "height": 415
        },
        "id": "Xa-j1VAhN6pf",
        "outputId": "d68364b0-5d4c-42ce-a71a-24e4f51dd478"
      },
      "execution_count": null,
      "outputs": [
        {
          "output_type": "display_data",
          "data": {
            "text/plain": [
              "<Figure size 1500x500 with 4 Axes>"
            ],
            "image/png": "[encoded data removed]"
          },
          "metadata": {}
        }
      ]
    },
    {
      "cell_type": "code",
      "source": [
        "img1 = Image.open(\"/content/test1img.png\").convert('L') # source > repo/src/\n",
        "img1 = img1.resize((60,60))"
      ],
      "metadata": {
        "id": "M4Ww2BJdEuug"
      },
      "execution_count": null,
      "outputs": []
    },
    {
      "cell_type": "code",
      "source": [
        "plot_img(img1)"
      ],
      "metadata": {
        "colab": {
          "base_uri": "https://localhost:8080/",
          "height": 295
        },
        "id": "G418A8ELFIPL",
        "outputId": "77a8e868-5e1a-4d7e-dc81-2965c02fcfbd"
      },
      "execution_count": null,
      "outputs": [
        {
          "output_type": "display_data",
          "data": {
            "text/plain": [
              "<Figure size 300x300 with 1 Axes>"
            ],
            "image/png": "[encoded data removed]"
          },
          "metadata": {}
        }
      ]
    },
    {
      "cell_type": "code",
      "source": [
        "# Convert image to numpy array and normalize pixel values\n",
        "img_np = np.array(img1, dtype=np.float32) / 255.0  # Normalizing to [0, 1]\n",
        "img_np = img_np[np.newaxis, ..., np.newaxis]  # Add batch and channel dimensions\n",
        "\n",
        "# Convert to TensorFlow tensor\n",
        "x = tf.convert_to_tensor(img_np)\n",
        "\n",
        "# Define a Conv2D layer\n",
        "conv_layer = layers.Conv2D(filters=3, kernel_size=(3, 3), activation='relu', padding='valid')\n",
        "\n",
        "# Apply the convolutional layer to the input tensor\n",
        "y = conv_layer(x)\n",
        "\n",
        "# Convert tensors to numpy arrays for plotting\n",
        "x_np = x.numpy().squeeze()  # Remove batch dimension and channel dimension\n",
        "y_np = y.numpy().squeeze()  # Remove batch dimension\n",
        "\n",
        "# Plotting\n",
        "fig, axes = plt.subplots(1, 4, figsize=(15, 5))\n",
        "\n",
        "# Plot input image\n",
        "axes[0].imshow(x_np, cmap='gray')\n",
        "axes[0].set_title('Input Image')\n",
        "axes[0].axis('off')\n",
        "\n",
        "# Plot each channel of the output feature maps\n",
        "for i in range(y_np.shape[-1]):\n",
        "    axes[i + 1].imshow(y_np[:, :, i], cmap='viridis')\n",
        "    axes[i + 1].set_title(f'Feature Map {i+1}')\n",
        "    axes[i + 1].axis('off')\n",
        "\n",
        "plt.tight_layout()\n",
        "plt.show()"
      ],
      "metadata": {
        "colab": {
          "base_uri": "https://localhost:8080/",
          "height": 415
        },
        "id": "EgxlCHxHOVtl",
        "outputId": "c56ea151-253a-404e-c10b-f16d9d9e3c65"
      },
      "execution_count": null,
      "outputs": [
        {
          "output_type": "display_data",
          "data": {
            "text/plain": [
              "<Figure size 1500x500 with 4 Axes>"
            ],
            "image/png": "[encoded data removed]"
          },
          "metadata": {}
        }
      ]
    },
    {
      "cell_type": "markdown",
      "source": [
        "## MaxPool2D\n",
        "\n",
        "`MaxPool2D` is a pooling layer used in Convolutional Neural Networks (CNNs) to down-sample the spatial dimensions of the input feature maps. It helps reduce the computational load and the number of parameters in the network, while also providing some degree of translation invariance.\n",
        "\n",
        "### Key Points\n",
        "\n",
        "- **Purpose**: Reduces the dimensionality of feature maps by retaining only the maximum value within a specified window, which helps in making the model more robust to small translations and distortions.\n",
        "\n",
        "- **Parameters**:\n",
        "  - `pool_size`: The size of the window (height, width) over which the maximum value is computed.\n",
        "  - `strides`: The step size with which the pooling window moves across the input. Default is equal to `pool_size`.\n",
        "  - `padding`: Can be 'valid' (no padding) or 'same' (pads the input to keep the output size the same as the input).\n",
        "\n",
        "### Example\n",
        "\n",
        "```python\n",
        "from tensorflow.keras.layers import MaxPool2D\n",
        "\n",
        "# Define a MaxPool2D layer\n",
        "maxpool_layer = MaxPool2D(pool_size=(2, 2), strides=(2, 2), padding='valid')\n",
        "\n",
        "# Apply the MaxPool2D layer to a 4D tensor\n",
        "output = maxpool_layer(input_tensor)\n"
      ],
      "metadata": {
        "id": "yD7qIEGZRzsu"
      }
    },
    {
      "cell_type": "markdown",
      "source": [
        "![img](https://img-blog.csdnimg.cn/img_convert/4c63d27cee5fb55308d7d535b9c74b2c.png)"
      ],
      "metadata": {
        "id": "2Ha0RdoVS-Kg"
      }
    },
    {
      "cell_type": "code",
      "source": [
        "x = np.array([\n",
        "    [1, 3, 2, 4],\n",
        "    [5, 6, 7, 8],\n",
        "    [9, 10, 11, 12],\n",
        "    [13, 14, 15, 16]\n",
        "])\n",
        "\n",
        "x.shape"
      ],
      "metadata": {
        "colab": {
          "base_uri": "https://localhost:8080/"
        },
        "id": "guEjeDfJR0JU",
        "outputId": "d33a2dcd-7ad6-4760-a262-ce584b53f59f"
      },
      "execution_count": null,
      "outputs": [
        {
          "output_type": "execute_result",
          "data": {
            "text/plain": [
              "(4, 4)"
            ]
          },
          "metadata": {},
          "execution_count": 104
        }
      ]
    },
    {
      "cell_type": "code",
      "source": [
        "x"
      ],
      "metadata": {
        "colab": {
          "base_uri": "https://localhost:8080/"
        },
        "id": "C1Wy05orTLxn",
        "outputId": "e4130707-37dd-4c92-e3ae-b568aeea29fa"
      },
      "execution_count": null,
      "outputs": [
        {
          "output_type": "execute_result",
          "data": {
            "text/plain": [
              "array([[ 1,  3,  2,  4],\n",
              "       [ 5,  6,  7,  8],\n",
              "       [ 9, 10, 11, 12],\n",
              "       [13, 14, 15, 16]])"
            ]
          },
          "metadata": {},
          "execution_count": 105
        }
      ]
    },
    {
      "cell_type": "code",
      "source": [
        "x = tf.reshape(x, (1, 4, 4, 1))\n",
        "x"
      ],
      "metadata": {
        "colab": {
          "base_uri": "https://localhost:8080/"
        },
        "id": "bA-yQ4LXTJfs",
        "outputId": "f7a6cecb-23d6-464e-9298-773bc6f30bf5"
      },
      "execution_count": null,
      "outputs": [
        {
          "output_type": "execute_result",
          "data": {
            "text/plain": [
              "<tf.Tensor: shape=(1, 4, 4, 1), dtype=int64, numpy=\n",
              "array([[[[ 1],\n",
              "         [ 3],\n",
              "         [ 2],\n",
              "         [ 4]],\n",
              "\n",
              "        [[ 5],\n",
              "         [ 6],\n",
              "         [ 7],\n",
              "         [ 8]],\n",
              "\n",
              "        [[ 9],\n",
              "         [10],\n",
              "         [11],\n",
              "         [12]],\n",
              "\n",
              "        [[13],\n",
              "         [14],\n",
              "         [15],\n",
              "         [16]]]])>"
            ]
          },
          "metadata": {},
          "execution_count": 106
        }
      ]
    },
    {
      "cell_type": "code",
      "source": [
        "# Define MaxPool2D layer\n",
        "maxpool_layer = layers.MaxPool2D(pool_size=(2, 2), strides=(2, 2), padding='valid')\n",
        "\n",
        "# Apply the MaxPool2D layer\n",
        "y = maxpool_layer(x)\n",
        "\n",
        "# Convert result to numpy array\n",
        "y_np = y.numpy().squeeze()  # Remove batch and channel dimensions\n",
        "\n",
        "print(\"Input Tensor:\\n\", x.numpy().squeeze())\n",
        "print(\"Output Tensor:\\n\", y_np)"
      ],
      "metadata": {
        "colab": {
          "base_uri": "https://localhost:8080/"
        },
        "id": "bEkHmvAhTVPR",
        "outputId": "43b94ada-6e08-4f49-c090-ce3c269faac0"
      },
      "execution_count": null,
      "outputs": [
        {
          "output_type": "stream",
          "name": "stdout",
          "text": [
            "Input Tensor:\n",
            " [[ 1  3  2  4]\n",
            " [ 5  6  7  8]\n",
            " [ 9 10 11 12]\n",
            " [13 14 15 16]]\n",
            "Output Tensor:\n",
            " [[ 6  8]\n",
            " [14 16]]\n"
          ]
        }
      ]
    },
    {
      "cell_type": "code",
      "source": [
        "# Plotting\n",
        "fig, axes = plt.subplots(1, 2, figsize=(10, 5))\n",
        "\n",
        "# Plot input tensor\n",
        "axes[0].imshow(x.numpy().squeeze(), cmap='gray', vmin=0, vmax=16)\n",
        "axes[0].set_title('Input Tensor')\n",
        "axes[0].axis('off')\n",
        "\n",
        "# Plot output tensor\n",
        "axes[1].imshow(y_np, cmap='viridis', vmin=0, vmax=16)\n",
        "axes[1].set_title('Max Pooling Output')\n",
        "axes[1].axis('off')\n",
        "\n",
        "plt.tight_layout()\n",
        "plt.show()\n"
      ],
      "metadata": {
        "colab": {
          "base_uri": "https://localhost:8080/",
          "height": 523
        },
        "id": "bzNv4zOHTg3J",
        "outputId": "c318724c-e2d6-41b7-cd65-107761738fdb"
      },
      "execution_count": null,
      "outputs": [
        {
          "output_type": "display_data",
          "data": {
            "text/plain": [
              "<Figure size 1000x500 with 2 Axes>"
            ],
            "image/png": "[encoded data removed]"
          },
          "metadata": {}
        }
      ]
    },
    {
      "cell_type": "code",
      "source": [
        "# Convert to TensorFlow tensor\n",
        "x = tf.convert_to_tensor(img_np)\n",
        "\n",
        "# Define a Conv2D layer\n",
        "conv_layer = layers.Conv2D(filters=3, kernel_size=(3, 3), activation='relu', padding='valid')\n",
        "\n",
        "# Apply the convolutional layer to the input tensor\n",
        "y = conv_layer(x)\n",
        "\n",
        "# Define a MaxPool2D layer with pool size (3, 3) and strides (3, 3)\n",
        "maxpool_layer = layers.MaxPool2D(pool_size=(3, 3), strides=(3, 3), padding='valid')\n",
        "\n",
        "# Apply the MaxPool2D layer\n",
        "y_pooled = maxpool_layer(y)\n",
        "\n",
        "# Convert tensors to numpy arrays for plotting\n",
        "x_np = x.numpy().squeeze()  # Remove batch and channel dimensions\n",
        "y_np = y.numpy().squeeze()  # Remove batch and channel dimensions\n",
        "y_pooled_np = y_pooled.numpy().squeeze()  # Remove batch and channel dimensions\n",
        "\n",
        "# Plotting the pooled feature maps\n",
        "fig, axes = plt.subplots(1, 3, figsize=(15, 5))\n",
        "\n",
        "# Plot each channel of the pooled feature maps\n",
        "for i in range(y_pooled_np.shape[-1]):\n",
        "    axes[i].imshow(y_pooled_np[:, :, i], cmap='viridis')\n",
        "    axes[i].set_title(f'Pooled Feature Map {i+1}')\n",
        "    axes[i].axis('off')\n",
        "\n",
        "plt.tight_layout()\n",
        "plt.show()\n"
      ],
      "metadata": {
        "colab": {
          "base_uri": "https://localhost:8080/",
          "height": 528
        },
        "id": "EIRKHLO0UZAl",
        "outputId": "66fa89fb-b0f1-4416-c39f-6abeeae83c43"
      },
      "execution_count": null,
      "outputs": [
        {
          "output_type": "display_data",
          "data": {
            "text/plain": [
              "<Figure size 1500x500 with 3 Axes>"
            ],
            "image/png": "[encoded data removed]"
          },
          "metadata": {}
        }
      ]
    },
    {
      "cell_type": "markdown",
      "source": [
        "## **Flatten Layer in CNN**\n",
        "\n",
        "### What is `layers.Flatten()`?\n",
        "The `Flatten` layer in TensorFlow and Keras is used to convert multi-dimensional input into a single, long, flat vector. This is particularly useful when transitioning from the convolutional layers, which operate in 2D or 3D space, to fully connected (dense) layers that expect 1D input.\n",
        "\n",
        "### How does it work?\n",
        "When you apply the `Flatten` layer to a tensor with shape `(batch_size, height, width, channels)`, it flattens the height, width, and channels into a single dimension, resulting in a tensor of shape `(batch_size, height * width * channels)`.\n",
        "\n",
        "For example, a tensor with shape `(1, 4, 4, 3)` would be flattened into `(1, 48)`.\n",
        "\n",
        "### Use in CNN Models\n",
        "In Convolutional Neural Networks (CNNs), after several convolutional and pooling layers, the high-dimensional feature maps need to be flattened before passing them to fully connected layers. The fully connected layers can then use this flattened vector to perform the final classification or regression tasks.\n",
        "\n",
        "### Example\n",
        "1. **Input Tensor Shape:** `(1, 4, 4, 3)` (e.g., 4x4 image with 3 channels)\n",
        "2. **Flattened Tensor Shape:** `(1, 48)` (all pixel values lined up in a single row)\n",
        "\n",
        "The `Flatten` layer is essential for transforming the 2D spatial features captured by the convolutional layers into a 1D feature vector that can be fed into the dense layers for final prediction.\n"
      ],
      "metadata": {
        "id": "FQDHgU-GswFu"
      }
    },
    {
      "cell_type": "code",
      "source": [
        "# Create a test tensor of shape (1, 4, 4, 3) to represent a batch of images (batch_size, height, width, channels)\n",
        "test_tensor = tf.random.uniform((1, 4, 4, 3), minval=0, maxval=10, dtype=tf.int32)"
      ],
      "metadata": {
        "id": "qoceKaiVtLXa"
      },
      "execution_count": null,
      "outputs": []
    },
    {
      "cell_type": "code",
      "source": [
        "test_tensor"
      ],
      "metadata": {
        "colab": {
          "base_uri": "https://localhost:8080/"
        },
        "id": "Np_j3MGOtMly",
        "outputId": "5f29cc19-a36f-49e2-f266-efca9f372852"
      },
      "execution_count": null,
      "outputs": [
        {
          "output_type": "execute_result",
          "data": {
            "text/plain": [
              "<tf.Tensor: shape=(1, 4, 4, 3), dtype=int32, numpy=\n",
              "array([[[[8, 3, 9],\n",
              "         [4, 2, 3],\n",
              "         [4, 2, 6],\n",
              "         [4, 1, 3]],\n",
              "\n",
              "        [[6, 0, 9],\n",
              "         [9, 0, 1],\n",
              "         [4, 7, 0],\n",
              "         [8, 1, 6]],\n",
              "\n",
              "        [[2, 4, 9],\n",
              "         [9, 4, 8],\n",
              "         [2, 1, 7],\n",
              "         [3, 7, 5]],\n",
              "\n",
              "        [[7, 6, 1],\n",
              "         [4, 3, 5],\n",
              "         [5, 9, 4],\n",
              "         [8, 3, 1]]]], dtype=int32)>"
            ]
          },
          "metadata": {},
          "execution_count": 7
        }
      ]
    },
    {
      "cell_type": "code",
      "source": [
        "# Create a Flatten layer\n",
        "flatten_layer = tf.keras.layers.Flatten()\n",
        "\n",
        "# Apply the Flatten layer to the test tensor\n",
        "flattened_tensor = flatten_layer(test_tensor)\n",
        "\n",
        "# Convert the original and flattened tensors to numpy arrays for easier visualization\n",
        "original_np = test_tensor.numpy().squeeze()  # Remove batch dimension for visualization\n",
        "flattened_np = flattened_tensor.numpy().squeeze()  # Remove batch dimension for visualization\n",
        "\n",
        "# Print the shapes to verify the flattening\n",
        "print(f\"Original shape: {test_tensor.shape}\")\n",
        "print(f\"Flattened shape: {flattened_tensor.shape}\")\n",
        "\n",
        "# Visualize the original tensor and the flattened tensor\n",
        "fig, axes = plt.subplots(1, 2, figsize=(12, 5))\n",
        "\n",
        "# Plot the original tensor (first channel for simplicity)\n",
        "axes[0].imshow(original_np[:, :, 0], cmap='viridis')\n",
        "axes[0].set_title('Original Tensor (Channel 1)')\n",
        "axes[0].axis('off')\n",
        "\n",
        "# Plot the flattened tensor (as a long row of pixels)\n",
        "axes[1].imshow(flattened_np.reshape(1, -1), cmap='viridis', aspect='auto')\n",
        "axes[1].set_title('Flattened Tensor')\n",
        "axes[1].axis('off')\n",
        "\n",
        "plt.show()"
      ],
      "metadata": {
        "colab": {
          "base_uri": "https://localhost:8080/",
          "height": 500
        },
        "id": "f6ApUolns1Ye",
        "outputId": "fdb85656-fd9b-4304-b387-8a2a8be13b0a"
      },
      "execution_count": null,
      "outputs": [
        {
          "output_type": "stream",
          "name": "stdout",
          "text": [
            "Original shape: (1, 4, 4, 3)\n",
            "Flattened shape: (1, 48)\n"
          ]
        },
        {
          "output_type": "display_data",
          "data": {
            "text/plain": [
              "<Figure size 1200x500 with 2 Axes>"
            ],
            "image/png": "[encoded data removed]"
          },
          "metadata": {}
        }
      ]
    },
    {
      "cell_type": "markdown",
      "source": [
        "## Dense Layer in Neural Networks\n",
        "\n",
        "### What is `layers.Dense()`?\n",
        "The `Dense` layer in TensorFlow and Keras is a fully connected layer, meaning that each neuron in the layer is connected to every neuron in the previous layer. This is one of the most common layers used in neural networks.\n",
        "\n",
        "### How does it work?\n",
        "The `Dense` layer performs a linear transformation of the input data, followed by an activation function. The linear transformation involves multiplying the input by a weight matrix and then adding a bias vector. The activation function introduces non-linearity, allowing the network to learn complex patterns.\n",
        "\n",
        "Mathematically, the output of a Dense layer is given by:\n",
        "\n",
        "**Output = Activation Function (Input × Weights + Bias)**\n",
        "\n",
        "### Use in Neural Networks\n",
        "The `Dense` layer is used in various parts of a neural network:\n",
        "- **Input Layer:** When the input data is first passed into the network.\n",
        "- **Hidden Layers:** Intermediate layers where features are learned.\n",
        "- **Output Layer:** Produces the final prediction (e.g., classification or regression).\n",
        "\n",
        "### Example\n",
        "Consider a Dense layer with 10 neurons and a ReLU activation function:\n",
        "```python\n",
        "from tensorflow.keras import layers\n",
        "\n",
        "dense_layer = layers.Dense(units=10, activation='relu')\n"
      ],
      "metadata": {
        "id": "GEuA31zytmIF"
      }
    },
    {
      "cell_type": "code",
      "source": [
        "# Step 1: Create a test tensor\n",
        "input_tensor = tf.constant([[1.0, 2.0, 3.0],\n",
        "                            [4.0, 5.0, 6.0]])\n",
        "\n",
        "# Step 2: Define a Dense layer\n",
        "dense_layer = layers.Dense(units=2, activation='relu')\n",
        "\n",
        "# Apply the Dense layer to the input tensor\n",
        "output_tensor = dense_layer(input_tensor)\n",
        "\n",
        "# Extract weights and biases for manual calculation\n",
        "weights, biases = dense_layer.get_weights()\n",
        "\n",
        "# Convert tensors to numpy arrays for easy visualization\n",
        "input_np = input_tensor.numpy()\n",
        "output_np = output_tensor.numpy()\n",
        "\n",
        "# Step 3: Visualizing the results\n",
        "\n",
        "# Plotting the input and output tensors\n",
        "fig, axes = plt.subplots(1, 2, figsize=(12, 6))\n",
        "\n",
        "# Plot the input tensor\n",
        "axes[0].imshow(input_np, cmap='viridis', aspect='auto')\n",
        "axes[0].set_title('Input Tensor')\n",
        "axes[0].axis('off')\n",
        "\n",
        "# Plot the output tensor after applying the Dense layer\n",
        "axes[1].imshow(output_np, cmap='viridis', aspect='auto')\n",
        "axes[1].set_title('Output Tensor (After Dense Layer)')\n",
        "axes[1].axis('off')\n",
        "\n",
        "plt.tight_layout()\n",
        "plt.show()\n",
        "\n",
        "# Manually calculate output (for understanding)\n",
        "manual_output = np.dot(input_np, weights) + biases\n",
        "manual_output = np.maximum(manual_output, 0)  # ReLU activation\n",
        "\n",
        "print(\"Input Tensor:\\n\", input_np)\n",
        "print(\"Weights:\\n\", weights)\n",
        "print(\"Biases:\\n\", biases)\n",
        "print(\"Manual Output Calculation:\\n\", manual_output)\n",
        "print(\"Output Tensor (TF):\\n\", output_np)\n"
      ],
      "metadata": {
        "colab": {
          "base_uri": "https://localhost:8080/",
          "height": 653
        },
        "id": "fcg08bc1tplx",
        "outputId": "9bae5216-9751-44dc-ccca-a728dc87d869"
      },
      "execution_count": null,
      "outputs": [
        {
          "output_type": "display_data",
          "data": {
            "text/plain": [
              "<Figure size 1200x600 with 2 Axes>"
            ],
            "image/png": "[encoded data removed]"
          },
          "metadata": {}
        },
        {
          "output_type": "stream",
          "name": "stdout",
          "text": [
            "Input Tensor:\n",
            " [[1. 2. 3.]\n",
            " [4. 5. 6.]]\n",
            "Weights:\n",
            " [[ 1.0059047  -0.96385217]\n",
            " [-0.00932181 -0.295147  ]\n",
            " [ 0.2626295   0.44250083]]\n",
            "Biases:\n",
            " [0. 0.]\n",
            "Manual Output Calculation:\n",
            " [[1.7751496 0.       ]\n",
            " [5.552787  0.       ]]\n",
            "Output Tensor (TF):\n",
            " [[1.7751496 0.       ]\n",
            " [5.552787  0.       ]]\n"
          ]
        }
      ]
    },
    {
      "cell_type": "code",
      "source": [],
      "metadata": {
        "id": "Y1tO6h_KucEw"
      },
      "execution_count": null,
      "outputs": []
    }
  ]
}