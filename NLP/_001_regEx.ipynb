{
  "nbformat": 4,
  "nbformat_minor": 0,
  "metadata": {
    "colab": {
      "provenance": [],
      "authorship_tag": "ABX9TyPjz29pTzm+Gi9gWsMkn8sw",
      "include_colab_link": true
    },
    "kernelspec": {
      "name": "python3",
      "display_name": "Python 3"
    },
    "language_info": {
      "name": "python"
    }
  },
  "cells": [
    {
      "cell_type": "markdown",
      "metadata": {
        "id": "view-in-github",
        "colab_type": "text"
      },
      "source": [
        "<a href=\"https://colab.research.google.com/github/IrfanKpm/machine-learning-diaries/blob/main/NLP/_001_regEx.ipynb\" target=\"_parent\"><img src=\"https://colab.research.google.com/assets/colab-badge.svg\" alt=\"Open In Colab\"/></a>"
      ]
    },
    {
      "cell_type": "code",
      "execution_count": null,
      "metadata": {
        "id": "DGG1ZOvATBvE"
      },
      "outputs": [],
      "source": [
        "import re"
      ]
    },
    {
      "cell_type": "code",
      "source": [
        "txt1 = \"The rain in Spain\"\n",
        "txt2 = \"apple,banana;cherry:date\"\n",
        "txt3 = \"apple:banana;cherry\"\n",
        "\n",
        "x1 = re.search(\"[a-m]\",txt1)\n",
        "x2 = re.findall(\"[a-m]\",txt1)\n",
        "x3 = re.split(\"a\",txt1)\n",
        "x4 = re.split(r\"[:,]\",txt2)\n",
        "x5 = re.sub(r';', '-', txt2)\n",
        "x6 = re.sub(r\"[:;]\",\"-\",txt3)\n",
        "\n",
        "print(x1)\n",
        "print(x2)\n",
        "print(x3)\n",
        "print(x4)\n",
        "print(x5)\n",
        "print(x6)"
      ],
      "metadata": {
        "colab": {
          "base_uri": "https://localhost:8080/"
        },
        "id": "oKASX4loTZZL",
        "outputId": "e51c6406-3b9e-46a4-e134-af92c6f8a360"
      },
      "execution_count": null,
      "outputs": [
        {
          "output_type": "stream",
          "name": "stdout",
          "text": [
            "<re.Match object; span=(1, 2), match='h'>\n",
            "['h', 'e', 'a', 'i', 'i', 'a', 'i']\n",
            "['The r', 'in in Sp', 'in']\n",
            "['apple', 'banana;cherry', 'date']\n",
            "apple,banana-cherry:date\n",
            "apple-banana-cherry\n"
          ]
        }
      ]
    },
    {
      "cell_type": "code",
      "source": [
        "txt1 = \"abcdefghijklmnopq\"\n",
        "\n",
        "x1 = re.findall(r\"[e-l]\",txt1)\n",
        "x2 = re.findall(r\"[^e-l]\",txt1)\n",
        "\n",
        "print(x1)\n",
        "print(x2)"
      ],
      "metadata": {
        "colab": {
          "base_uri": "https://localhost:8080/"
        },
        "id": "2l_BIsO4ZYoA",
        "outputId": "6f1610e0-fd4a-4185-ed32-24485e9f98e9"
      },
      "execution_count": null,
      "outputs": [
        {
          "output_type": "stream",
          "name": "stdout",
          "text": [
            "['e', 'f', 'g', 'h', 'i', 'j', 'k', 'l']\n",
            "['a', 'b', 'c', 'd', 'm', 'n', 'o', 'p', 'q']\n"
          ]
        }
      ]
    },
    {
      "cell_type": "code",
      "source": [
        "txt1 = \"Hello123World\"\n",
        "txt2 = \"john@example.com\"\n",
        "\n",
        "x1 = re.findall(r'[0-9]',txt1)\n",
        "x2 = re.findall(r'[^0-9]',txt1)\n",
        "x3 = re.findall(r'[^@]',txt2)\n",
        "\n",
        "print(x1)\n",
        "print(x2)\n",
        "print(x3)"
      ],
      "metadata": {
        "colab": {
          "base_uri": "https://localhost:8080/"
        },
        "id": "9KcRXZ__aa_3",
        "outputId": "71dfe106-7b5e-4a08-b678-0187dee0f3cb"
      },
      "execution_count": null,
      "outputs": [
        {
          "output_type": "stream",
          "name": "stdout",
          "text": [
            "['1', '2', '3']\n",
            "['H', 'e', 'l', 'l', 'o', 'W', 'o', 'r', 'l', 'd']\n",
            "['j', 'o', 'h', 'n', 'e', 'x', 'a', 'm', 'p', 'l', 'e', '.', 'c', 'o', 'm']\n"
          ]
        }
      ]
    },
    {
      "cell_type": "code",
      "source": [
        "txt1 = \"hello hero helo helo\"\n",
        "txt2 = \"hello world\"\n",
        "\n",
        "l1 = [\"hello world\",\"abcde world\",\"hello bro\"]\n",
        "\n",
        "x1 = re.findall(r'he..o',txt1)\n",
        "x2 = re.findall(r'h..o',txt1)\n",
        "x3 = re.findall(r'..ll.',txt2)\n",
        "x4 =  [s for s in l1 if re.findall(r'^hello', s)]\n",
        "\n",
        "print(x1)\n",
        "print(x2)\n",
        "print(x3)\n",
        "print(x4)"
      ],
      "metadata": {
        "colab": {
          "base_uri": "https://localhost:8080/"
        },
        "id": "AI0VRj9RdDXL",
        "outputId": "aed237fd-43b1-4024-d825-4fe1750fc590"
      },
      "execution_count": null,
      "outputs": [
        {
          "output_type": "stream",
          "name": "stdout",
          "text": [
            "['hello']\n",
            "['hero', 'helo', 'helo']\n",
            "['hello']\n",
            "['hello world', 'hello bro']\n"
          ]
        }
      ]
    },
    {
      "cell_type": "code",
      "source": [
        "txt1 = \"I am going to the gym and then I will swim.\"\n",
        "\n",
        "x1 = [s for s in txt1.split() if re.findall(r'm$', s)]\n",
        "x2 = [s for s in txt1.split() if re.findall(r'ym$', s)]\n",
        "\n",
        "print(x1)\n",
        "print(x2)"
      ],
      "metadata": {
        "colab": {
          "base_uri": "https://localhost:8080/"
        },
        "id": "y-AHPjH5hfw_",
        "outputId": "883c2a61-fd69-47a3-de27-a24f48ed95a2"
      },
      "execution_count": null,
      "outputs": [
        {
          "output_type": "stream",
          "name": "stdout",
          "text": [
            "['am', 'gym']\n",
            "['gym']\n"
          ]
        }
      ]
    },
    {
      "cell_type": "code",
      "source": [
        "txt1 = \"foxy proxy\"\n",
        "\n",
        "x1 = [s for s in txt1.split() if re.findall(r'y$', txt1)]\n",
        "# Find words that start with 'f' and end with 'y'\n",
        "x2 = [s for s in txt1.split() if re.findall(r'^f.*y$', s)]\n",
        "\n",
        "print(x1)\n",
        "print(x2)"
      ],
      "metadata": {
        "colab": {
          "base_uri": "https://localhost:8080/"
        },
        "id": "KMpVd5UbxQiy",
        "outputId": "ac740c3c-10df-4b0d-ed66-dbb1f34c059d"
      },
      "execution_count": null,
      "outputs": [
        {
          "output_type": "stream",
          "name": "stdout",
          "text": [
            "['foxy', 'proxy']\n",
            "['foxy']\n"
          ]
        }
      ]
    },
    {
      "cell_type": "code",
      "source": [
        "# Sample text containing numbers\n",
        "txt = \"Time values include 05, 12, 27, 42, 58, and 60.\"\n",
        "\n",
        "# Find all two-digit numbers between 00 and 59\n",
        "matches = re.findall(r'[0-5][0-9]', txt)\n",
        "\n",
        "print(\"Matches:\", matches)"
      ],
      "metadata": {
        "colab": {
          "base_uri": "https://localhost:8080/"
        },
        "id": "p2C2DCFrz6DD",
        "outputId": "fa446798-0c18-4dd5-fe9f-6450e3dc8924"
      },
      "execution_count": null,
      "outputs": [
        {
          "output_type": "stream",
          "name": "stdout",
          "text": [
            "Matches: ['05', '12', '27', '42', '58']\n"
          ]
        }
      ]
    },
    {
      "cell_type": "code",
      "source": [
        "txt = \"The rain in Spain\"\n",
        "x = re.findall(\"ai\", txt)\n",
        "print(x)"
      ],
      "metadata": {
        "colab": {
          "base_uri": "https://localhost:8080/"
        },
        "id": "JP2jN4Yu0BpO",
        "outputId": "ed37b531-4aef-467b-8dc3-1ceafa7ed541"
      },
      "execution_count": null,
      "outputs": [
        {
          "output_type": "stream",
          "name": "stdout",
          "text": [
            "['ai', 'ai']\n"
          ]
        }
      ]
    },
    {
      "cell_type": "markdown",
      "source": [
        "## **exercise problem**"
      ],
      "metadata": {
        "id": "vx6sFWE10kW4"
      }
    },
    {
      "cell_type": "code",
      "source": [
        "# Find all two-digit numbers between 10 - 27\n",
        "\n",
        "txt = \"Values are 09, 10, 15, 27 , 29, 30, 45.\"\n",
        "\n",
        "x = re.findall(r\"\\b[1-2][0-7\\b]\",txt)\n",
        "print(x)"
      ],
      "metadata": {
        "colab": {
          "base_uri": "https://localhost:8080/"
        },
        "id": "tkIX7Xwn0pd1",
        "outputId": "f351aaa8-0c07-43f8-f096-fba98be961de"
      },
      "execution_count": null,
      "outputs": [
        {
          "output_type": "stream",
          "name": "stdout",
          "text": [
            "['10', '15', '27']\n"
          ]
        }
      ]
    },
    {
      "cell_type": "code",
      "source": [
        "# Validate Email Addresses\n",
        "\n",
        "txt = \"Contact us at info@example.com, support@test-site.org, or sales@my-email.com.\"\n",
        "matches = re.findall(r'\\b[A-Za-z0-9._%+-]+@[A-Za-z0-9.-]+\\.[A-Za-z]{2,}\\b', txt)\n",
        "print(\"Matches:\", matches)"
      ],
      "metadata": {
        "colab": {
          "base_uri": "https://localhost:8080/"
        },
        "id": "YS6WGxW3C2n2",
        "outputId": "762cbe83-e882-4427-819e-209af26227a3"
      },
      "execution_count": null,
      "outputs": [
        {
          "output_type": "stream",
          "name": "stdout",
          "text": [
            "Matches: ['info@example.com', 'support@test-site.org', 'sales@my-email.com']\n"
          ]
        }
      ]
    },
    {
      "cell_type": "code",
      "source": [
        "# Extract Words Starting with a Capital Letter\n",
        "txt = \"Alice went to Wonderland and met the Mad Hatter.\"\n",
        "matches = re.findall(r'\\b[A-Z][a-z]*\\b', txt)\n",
        "print(\"Matches:\", matches)"
      ],
      "metadata": {
        "colab": {
          "base_uri": "https://localhost:8080/"
        },
        "id": "iq1kXjlpDEV3",
        "outputId": "829b1c69-73eb-4dd7-9942-8d549a6910b3"
      },
      "execution_count": null,
      "outputs": [
        {
          "output_type": "stream",
          "name": "stdout",
          "text": [
            "Matches: ['Alice', 'Wonderland', 'Mad', 'Hatter']\n"
          ]
        }
      ]
    },
    {
      "cell_type": "code",
      "source": [
        "# Validate a Phone Number Format ( XXX-XXX-XXXX )\n",
        "txt = \"Call me at 123-456-7890 or 987-654-3210.\"\n",
        "matches = re.findall(r'\\b\\d{3}-\\d{3}-\\d{4}\\b', txt)\n",
        "print(\"Matches:\", matches)"
      ],
      "metadata": {
        "colab": {
          "base_uri": "https://localhost:8080/"
        },
        "id": "htDPtplaDUJG",
        "outputId": "e8a94cdf-d51d-400e-ab9a-2df9f5572b42"
      },
      "execution_count": null,
      "outputs": [
        {
          "output_type": "stream",
          "name": "stdout",
          "text": [
            "Matches: ['123-456-7890', '987-654-3210']\n"
          ]
        }
      ]
    },
    {
      "cell_type": "code",
      "source": [
        "# Extract All Hashtags\n",
        "txt = \"Follow us on social media #fun #coding #regex.\"\n",
        "matches = re.findall(r'#\\w+', txt)\n",
        "print(\"Matches:\", matches)"
      ],
      "metadata": {
        "colab": {
          "base_uri": "https://localhost:8080/"
        },
        "id": "5K4s7zo1De9Y",
        "outputId": "51c3815c-84af-4f8b-cfcf-cabf2db34ae2"
      },
      "execution_count": null,
      "outputs": [
        {
          "output_type": "stream",
          "name": "stdout",
          "text": [
            "Matches: ['#fun', '#coding', '#regex']\n"
          ]
        }
      ]
    },
    {
      "cell_type": "code",
      "source": [
        "# Find Dates in DD/MM/YYYY Format\n",
        "txt = \"Important dates are 12/05/2021, 30/11/2020, and 01/01/2022.\"\n",
        "matches = re.findall(r'\\b\\d{2}/\\d{2}/\\d{4}\\b', txt)\n",
        "print(\"Matches:\", matches)"
      ],
      "metadata": {
        "colab": {
          "base_uri": "https://localhost:8080/"
        },
        "id": "CfL2R3TdDj26",
        "outputId": "b015ec8a-0045-40b7-a436-9cebe96c5abb"
      },
      "execution_count": null,
      "outputs": [
        {
          "output_type": "stream",
          "name": "stdout",
          "text": [
            "Matches: ['12/05/2021', '30/11/2020', '01/01/2022']\n"
          ]
        }
      ]
    },
    {
      "cell_type": "code",
      "source": [
        "# Find Words That Contain Digits\n",
        "txt = \"Order IDs are A123, B456, C789, and AB12CD.\"\n",
        "matches = re.findall(r'\\b\\w*\\d\\w*\\b', txt)\n",
        "print(\"Matches:\", matches)"
      ],
      "metadata": {
        "colab": {
          "base_uri": "https://localhost:8080/"
        },
        "id": "osQLUxyqDrEH",
        "outputId": "b4696ab3-f7e9-4e06-d5b5-1f650b41634b"
      },
      "execution_count": null,
      "outputs": [
        {
          "output_type": "stream",
          "name": "stdout",
          "text": [
            "Matches: ['A123', 'B456', 'C789', 'AB12CD']\n"
          ]
        }
      ]
    }
  ]
}