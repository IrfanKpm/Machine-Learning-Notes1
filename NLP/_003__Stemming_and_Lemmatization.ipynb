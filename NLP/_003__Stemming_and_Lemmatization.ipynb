{
  "nbformat": 4,
  "nbformat_minor": 0,
  "metadata": {
    "colab": {
      "provenance": [],
      "authorship_tag": "ABX9TyPuX4soWOz/yo24cv46mBM8",
      "include_colab_link": true
    },
    "kernelspec": {
      "name": "python3",
      "display_name": "Python 3"
    },
    "language_info": {
      "name": "python"
    }
  },
  "cells": [
    {
      "cell_type": "markdown",
      "metadata": {
        "id": "view-in-github",
        "colab_type": "text"
      },
      "source": [
        "<a href=\"https://colab.research.google.com/github/IrfanKpm/machine-learning-diaries/blob/main/NLP/_003__Stemming_and_Lemmatization.ipynb\" target=\"_parent\"><img src=\"https://colab.research.google.com/assets/colab-badge.svg\" alt=\"Open In Colab\"/></a>"
      ]
    },
    {
      "cell_type": "markdown",
      "source": [
        "## **Stemming**\n",
        "\n",
        "Stemming is a process that reduces words to their root form by chopping off derivational affixes. It’s often more aggressive and can sometimes produce words that are not real (e.g., \"running\" becomes \"run\")."
      ],
      "metadata": {
        "id": "FIeIQEKaL5YB"
      }
    },
    {
      "cell_type": "code",
      "source": [
        "from nltk.stem import PorterStemmer\n",
        "\n",
        "# Initialize the stemmer\n",
        "stemmer = PorterStemmer()\n",
        "\n",
        "# List of words\n",
        "words = [\"talking\", \"eating\", \"adjustable\", \"ate\", \"running\", \"flies\", \"better\", \"has\", \"geese\", \"swimming\"]\n",
        "\n",
        "# Apply stemming\n",
        "for word in words:\n",
        "    print(f\"Original: {word} -> Stemmed: {stemmer.stem(word)}\")"
      ],
      "metadata": {
        "colab": {
          "base_uri": "https://localhost:8080/"
        },
        "id": "W5_reR9_L-1c",
        "outputId": "a09a7f1b-b8d7-43b2-cb0b-6df8b40573af"
      },
      "execution_count": 1,
      "outputs": [
        {
          "output_type": "stream",
          "name": "stdout",
          "text": [
            "Original: talking -> Stemmed: talk\n",
            "Original: eating -> Stemmed: eat\n",
            "Original: adjustable -> Stemmed: adjust\n",
            "Original: ate -> Stemmed: ate\n",
            "Original: running -> Stemmed: run\n",
            "Original: flies -> Stemmed: fli\n",
            "Original: better -> Stemmed: better\n",
            "Original: has -> Stemmed: ha\n",
            "Original: geese -> Stemmed: gees\n",
            "Original: swimming -> Stemmed: swim\n"
          ]
        }
      ]
    },
    {
      "cell_type": "markdown",
      "source": [
        "## **Lemmatization**\n",
        "\n",
        "Lemmatization reduces words to their base or dictionary form (lemma) by considering the context and part of speech. Unlike stemming, it results in meaningful words that exist in the language."
      ],
      "metadata": {
        "id": "-4tD8FXgMV7q"
      }
    },
    {
      "cell_type": "code",
      "source": [
        "import spacy\n",
        "\n",
        "# Load spaCy model\n",
        "nlp = spacy.load(\"en_core_web_sm\")\n",
        "\n",
        "# List of words to lemmatize\n",
        "words = [\"talking\", \"eating\", \"adjustable\", \"ate\", \"running\", \"flies\", \"better\", \"has\", \"geese\", \"swimming\"]\n",
        "\n",
        "# Process words and apply lemmatization\n",
        "for word in words:\n",
        "    doc = nlp(word)\n",
        "    lemma = doc[0].lemma_\n",
        "    print(f\"Original: {word} -> Lemmatized: {lemma}\")"
      ],
      "metadata": {
        "colab": {
          "base_uri": "https://localhost:8080/"
        },
        "id": "HHUfv9U7MZKH",
        "outputId": "196c6ca2-065b-4a9f-baff-08bf2f964a77"
      },
      "execution_count": 3,
      "outputs": [
        {
          "output_type": "stream",
          "name": "stdout",
          "text": [
            "Original: talking -> Lemmatized: talk\n",
            "Original: eating -> Lemmatized: eat\n",
            "Original: adjustable -> Lemmatized: adjustable\n",
            "Original: ate -> Lemmatized: eat\n",
            "Original: running -> Lemmatized: run\n",
            "Original: flies -> Lemmatized: fly\n",
            "Original: better -> Lemmatized: well\n",
            "Original: has -> Lemmatized: have\n",
            "Original: geese -> Lemmatized: geese\n",
            "Original: swimming -> Lemmatized: swim\n"
          ]
        }
      ]
    }
  ]
}